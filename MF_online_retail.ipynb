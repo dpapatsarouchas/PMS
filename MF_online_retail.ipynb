{
  "nbformat": 4,
  "nbformat_minor": 0,
  "metadata": {
    "colab": {
      "name": "MF_online_retail.ipynb",
      "provenance": [],
      "collapsed_sections": [],
      "toc_visible": true,
      "mount_file_id": "1fkgAKS-9ykNvT4dalu_gvQo7E-osBGna",
      "authorship_tag": "ABX9TyNmNeOWwLFqAuMUgwsEdEI/",
      "include_colab_link": true
    },
    "kernelspec": {
      "display_name": "Python 3",
      "name": "python3"
    }
  },
  "cells": [
    {
      "cell_type": "markdown",
      "metadata": {
        "id": "view-in-github",
        "colab_type": "text"
      },
      "source": [
        "<a href=\"https://colab.research.google.com/github/dpapatsarouchas/PMS/blob/master/MF_online_retail.ipynb\" target=\"_parent\"><img src=\"https://colab.research.google.com/assets/colab-badge.svg\" alt=\"Open In Colab\"/></a>"
      ]
    },
    {
      "cell_type": "markdown",
      "metadata": {
        "id": "jpD78PvPJ4xD"
      },
      "source": [
        "# Online retail \r\n",
        "1. Preprocess\r\n",
        "2. classify?\r\n",
        "3. cluster\r\n",
        "4. associate\r\n",
        "5. Select attributes\r\n",
        "6. visualize"
      ]
    },
    {
      "cell_type": "markdown",
      "metadata": {
        "id": "uCELvIpoSdLC"
      },
      "source": [
        "# Imports\r\n"
      ]
    },
    {
      "cell_type": "code",
      "metadata": {
        "colab": {
          "base_uri": "https://localhost:8080/"
        },
        "id": "n5zODc6SRQbu",
        "outputId": "9e633127-ba63-4ca2-a4ad-c9fab21b6d6f"
      },
      "source": [
        "import pandas as pd\r\n",
        "import matplotlib\r\n",
        "# matplotlib.use('Agg')\r\n",
        "import matplotlib.pyplot as plt\r\n",
        "import seaborn as sns\r\n",
        "\r\n",
        "from google.colab import drive\r\n",
        "drive.mount('/content/drive')"
      ],
      "execution_count": 154,
      "outputs": [
        {
          "output_type": "stream",
          "text": [
            "Drive already mounted at /content/drive; to attempt to forcibly remount, call drive.mount(\"/content/drive\", force_remount=True).\n"
          ],
          "name": "stdout"
        }
      ]
    },
    {
      "cell_type": "markdown",
      "metadata": {
        "id": "w-geaOSxNSJ-"
      },
      "source": [
        "# Load Data"
      ]
    },
    {
      "cell_type": "code",
      "metadata": {
        "colab": {
          "base_uri": "https://localhost:8080/",
          "height": 204
        },
        "id": "__ctJSZ3NRuR",
        "outputId": "e56d1d48-753c-4484-9698-baae0ab19203"
      },
      "source": [
        "df_ori = pd.read_excel('/content/drive/MyDrive/mfdatasets/Online Retail.xlsx')\r\n",
        "df = df_ori.copy()\r\n",
        "df.head()"
      ],
      "execution_count": 155,
      "outputs": [
        {
          "output_type": "execute_result",
          "data": {
            "text/html": [
              "<div>\n",
              "<style scoped>\n",
              "    .dataframe tbody tr th:only-of-type {\n",
              "        vertical-align: middle;\n",
              "    }\n",
              "\n",
              "    .dataframe tbody tr th {\n",
              "        vertical-align: top;\n",
              "    }\n",
              "\n",
              "    .dataframe thead th {\n",
              "        text-align: right;\n",
              "    }\n",
              "</style>\n",
              "<table border=\"1\" class=\"dataframe\">\n",
              "  <thead>\n",
              "    <tr style=\"text-align: right;\">\n",
              "      <th></th>\n",
              "      <th>InvoiceNo</th>\n",
              "      <th>StockCode</th>\n",
              "      <th>Description</th>\n",
              "      <th>Quantity</th>\n",
              "      <th>InvoiceDate</th>\n",
              "      <th>UnitPrice</th>\n",
              "      <th>CustomerID</th>\n",
              "      <th>Country</th>\n",
              "    </tr>\n",
              "  </thead>\n",
              "  <tbody>\n",
              "    <tr>\n",
              "      <th>0</th>\n",
              "      <td>536365</td>\n",
              "      <td>85123A</td>\n",
              "      <td>WHITE HANGING HEART T-LIGHT HOLDER</td>\n",
              "      <td>6</td>\n",
              "      <td>2010-12-01 08:26:00</td>\n",
              "      <td>2.55</td>\n",
              "      <td>17850.0</td>\n",
              "      <td>United Kingdom</td>\n",
              "    </tr>\n",
              "    <tr>\n",
              "      <th>1</th>\n",
              "      <td>536365</td>\n",
              "      <td>71053</td>\n",
              "      <td>WHITE METAL LANTERN</td>\n",
              "      <td>6</td>\n",
              "      <td>2010-12-01 08:26:00</td>\n",
              "      <td>3.39</td>\n",
              "      <td>17850.0</td>\n",
              "      <td>United Kingdom</td>\n",
              "    </tr>\n",
              "    <tr>\n",
              "      <th>2</th>\n",
              "      <td>536365</td>\n",
              "      <td>84406B</td>\n",
              "      <td>CREAM CUPID HEARTS COAT HANGER</td>\n",
              "      <td>8</td>\n",
              "      <td>2010-12-01 08:26:00</td>\n",
              "      <td>2.75</td>\n",
              "      <td>17850.0</td>\n",
              "      <td>United Kingdom</td>\n",
              "    </tr>\n",
              "    <tr>\n",
              "      <th>3</th>\n",
              "      <td>536365</td>\n",
              "      <td>84029G</td>\n",
              "      <td>KNITTED UNION FLAG HOT WATER BOTTLE</td>\n",
              "      <td>6</td>\n",
              "      <td>2010-12-01 08:26:00</td>\n",
              "      <td>3.39</td>\n",
              "      <td>17850.0</td>\n",
              "      <td>United Kingdom</td>\n",
              "    </tr>\n",
              "    <tr>\n",
              "      <th>4</th>\n",
              "      <td>536365</td>\n",
              "      <td>84029E</td>\n",
              "      <td>RED WOOLLY HOTTIE WHITE HEART.</td>\n",
              "      <td>6</td>\n",
              "      <td>2010-12-01 08:26:00</td>\n",
              "      <td>3.39</td>\n",
              "      <td>17850.0</td>\n",
              "      <td>United Kingdom</td>\n",
              "    </tr>\n",
              "  </tbody>\n",
              "</table>\n",
              "</div>"
            ],
            "text/plain": [
              "  InvoiceNo StockCode  ... CustomerID         Country\n",
              "0    536365    85123A  ...    17850.0  United Kingdom\n",
              "1    536365     71053  ...    17850.0  United Kingdom\n",
              "2    536365    84406B  ...    17850.0  United Kingdom\n",
              "3    536365    84029G  ...    17850.0  United Kingdom\n",
              "4    536365    84029E  ...    17850.0  United Kingdom\n",
              "\n",
              "[5 rows x 8 columns]"
            ]
          },
          "metadata": {
            "tags": []
          },
          "execution_count": 155
        }
      ]
    },
    {
      "cell_type": "code",
      "metadata": {
        "colab": {
          "base_uri": "https://localhost:8080/"
        },
        "id": "ayJq54xQNvMv",
        "outputId": "b88ae96f-add0-4617-bb13-14fd6efc6c05"
      },
      "source": [
        "print('---Shape---')\n",
        "print(df.shape)\n",
        "print('---Info---')\n",
        "print(df.info())\n",
        "print('---Describe---')\n",
        "print(df.describe())"
      ],
      "execution_count": 156,
      "outputs": [
        {
          "output_type": "stream",
          "text": [
            "---Shape---\n",
            "(541909, 8)\n",
            "---Info---\n",
            "<class 'pandas.core.frame.DataFrame'>\n",
            "RangeIndex: 541909 entries, 0 to 541908\n",
            "Data columns (total 8 columns):\n",
            " #   Column       Non-Null Count   Dtype         \n",
            "---  ------       --------------   -----         \n",
            " 0   InvoiceNo    541909 non-null  object        \n",
            " 1   StockCode    541909 non-null  object        \n",
            " 2   Description  540455 non-null  object        \n",
            " 3   Quantity     541909 non-null  int64         \n",
            " 4   InvoiceDate  541909 non-null  datetime64[ns]\n",
            " 5   UnitPrice    541909 non-null  float64       \n",
            " 6   CustomerID   406829 non-null  float64       \n",
            " 7   Country      541909 non-null  object        \n",
            "dtypes: datetime64[ns](1), float64(2), int64(1), object(4)\n",
            "memory usage: 33.1+ MB\n",
            "None\n",
            "---Describe---\n",
            "            Quantity      UnitPrice     CustomerID\n",
            "count  541909.000000  541909.000000  406829.000000\n",
            "mean        9.552250       4.611114   15287.690570\n",
            "std       218.081158      96.759853    1713.600303\n",
            "min    -80995.000000  -11062.060000   12346.000000\n",
            "25%         1.000000       1.250000   13953.000000\n",
            "50%         3.000000       2.080000   15152.000000\n",
            "75%        10.000000       4.130000   16791.000000\n",
            "max     80995.000000   38970.000000   18287.000000\n"
          ],
          "name": "stdout"
        }
      ]
    },
    {
      "cell_type": "markdown",
      "metadata": {
        "id": "1qUBfc9k9bSl"
      },
      "source": [
        "# Exploratory Data Analysis"
      ]
    },
    {
      "cell_type": "markdown",
      "metadata": {
        "id": "qUOAdwfCBaqf"
      },
      "source": [
        "## Describe Features"
      ]
    },
    {
      "cell_type": "code",
      "metadata": {
        "colab": {
          "base_uri": "https://localhost:8080/"
        },
        "id": "72E_MX9Y9gIp",
        "outputId": "e3aa3103-9ee3-4ff0-f30a-4bc39738673a"
      },
      "source": [
        "# InvoiceNo\r\n",
        "print(\"\\n==== InvoiceNo ====\\n\")\r\n",
        "print(df['InvoiceNo'].describe())\r\n",
        "\r\n",
        "# StockCode\r\n",
        "print(\"\\n==== StockCode ====\\n\")\r\n",
        "print(df['StockCode'].describe())\r\n",
        "\r\n",
        "# Description\r\n",
        "print(\"\\n==== Description ====\\n\")\r\n",
        "print(df['Description'].describe())\r\n",
        "\r\n",
        "# Quantity\r\n",
        "print(\"\\n==== Quantity ====\\n\")\r\n",
        "print(df['Quantity'].describe())\r\n",
        "\r\n",
        "# InvoiceDate\r\n",
        "print(\"\\n==== InvoiceDate ====\\n\")\r\n",
        "print(df['InvoiceDate'].describe())\r\n",
        "\r\n",
        "# UnitPrice\r\n",
        "print(\"\\n==== UnitPrice ====\\n\")\r\n",
        "print(df['UnitPrice'].describe())\r\n",
        "\r\n",
        "# CustomerID\r\n",
        "print(\"\\n==== CustomerID ====\\n\")\r\n",
        "print(df['CustomerID'].describe())\r\n",
        "\r\n",
        "# Country\r\n",
        "print(\"\\n==== Country ====\\n\")\r\n",
        "print(df['Country'].describe())\r\n",
        "\r\n",
        "# Unique Values\r\n",
        "print(df.nunique())"
      ],
      "execution_count": 157,
      "outputs": [
        {
          "output_type": "stream",
          "text": [
            "\n",
            "==== InvoiceNo ====\n",
            "\n",
            "count     541909\n",
            "unique     25900\n",
            "top       573585\n",
            "freq        1114\n",
            "Name: InvoiceNo, dtype: int64\n",
            "\n",
            "==== StockCode ====\n",
            "\n",
            "count     541909\n",
            "unique      4070\n",
            "top       85123A\n",
            "freq        2313\n",
            "Name: StockCode, dtype: object\n",
            "\n",
            "==== Description ====\n",
            "\n",
            "count                                 540455\n",
            "unique                                  4223\n",
            "top       WHITE HANGING HEART T-LIGHT HOLDER\n",
            "freq                                    2369\n",
            "Name: Description, dtype: object\n",
            "\n",
            "==== Quantity ====\n",
            "\n",
            "count    541909.000000\n",
            "mean          9.552250\n",
            "std         218.081158\n",
            "min      -80995.000000\n",
            "25%           1.000000\n",
            "50%           3.000000\n",
            "75%          10.000000\n",
            "max       80995.000000\n",
            "Name: Quantity, dtype: float64\n",
            "\n",
            "==== InvoiceDate ====\n",
            "\n",
            "count                  541909\n",
            "unique                  23260\n",
            "top       2011-10-31 14:41:00\n",
            "freq                     1114\n",
            "first     2010-12-01 08:26:00\n",
            "last      2011-12-09 12:50:00\n",
            "Name: InvoiceDate, dtype: object\n",
            "\n",
            "==== UnitPrice ====\n",
            "\n",
            "count    541909.000000\n",
            "mean          4.611114\n",
            "std          96.759853\n",
            "min      -11062.060000\n",
            "25%           1.250000\n",
            "50%           2.080000\n",
            "75%           4.130000\n",
            "max       38970.000000\n",
            "Name: UnitPrice, dtype: float64\n",
            "\n",
            "==== CustomerID ====\n",
            "\n",
            "count    406829.000000\n",
            "mean      15287.690570\n",
            "std        1713.600303\n",
            "min       12346.000000\n",
            "25%       13953.000000\n",
            "50%       15152.000000\n",
            "75%       16791.000000\n",
            "max       18287.000000\n",
            "Name: CustomerID, dtype: float64\n",
            "\n",
            "==== Country ====\n",
            "\n",
            "count             541909\n",
            "unique                38\n",
            "top       United Kingdom\n",
            "freq              495478\n",
            "Name: Country, dtype: object\n"
          ],
          "name": "stdout"
        },
        {
          "output_type": "stream",
          "text": [
            "/usr/local/lib/python3.7/dist-packages/ipykernel_launcher.py:19: FutureWarning: Treating datetime data as categorical rather than numeric in `.describe` is deprecated and will be removed in a future version of pandas. Specify `datetime_is_numeric=True` to silence this warning and adopt the future behavior now.\n"
          ],
          "name": "stderr"
        },
        {
          "output_type": "stream",
          "text": [
            "InvoiceNo      25900\n",
            "StockCode       4070\n",
            "Description     4223\n",
            "Quantity         722\n",
            "InvoiceDate    23260\n",
            "UnitPrice       1630\n",
            "CustomerID      4372\n",
            "Country           38\n",
            "dtype: int64\n"
          ],
          "name": "stdout"
        }
      ]
    },
    {
      "cell_type": "markdown",
      "metadata": {
        "id": "PvjceX7tJd0x"
      },
      "source": [
        "# Preprocessing"
      ]
    },
    {
      "cell_type": "markdown",
      "metadata": {
        "id": "WhegTZjKJq52"
      },
      "source": [
        "### Clean the data\r\n"
      ]
    },
    {
      "cell_type": "code",
      "metadata": {
        "id": "ydgfcqMA0Q2W"
      },
      "source": [
        "# Stripping extra spaces in the description\r\n",
        "df['Description'] = df['Description'].str.strip()\r\n",
        "\r\n",
        "# Dropping the rows without any invoice number\r\n",
        "df.dropna(axis = 0, subset =['InvoiceNo'], inplace = True)\r\n",
        "df['InvoiceNo'] = df['InvoiceNo'].astype('str')\r\n",
        "\r\n",
        "# Dropping all transactions which were done on credit\r\n",
        "# df = df[~df['InvoiceNo'].str.contains('C')]"
      ],
      "execution_count": 158,
      "outputs": []
    },
    {
      "cell_type": "markdown",
      "metadata": {
        "id": "kplzBBfBahch"
      },
      "source": [
        "#### Missing values"
      ]
    },
    {
      "cell_type": "code",
      "metadata": {
        "colab": {
          "base_uri": "https://localhost:8080/"
        },
        "id": "mk1jPmkdJqX3",
        "outputId": "b7989c98-c32b-4a1f-816d-adbe45de7702"
      },
      "source": [
        "# Is there any missing values?\r\n",
        "print(df.isna().sum())\r\n",
        "# Remove Missing values\r\n",
        "df_nonan = df.dropna()\r\n",
        "print(df.shape)\r\n",
        "print(df.describe())"
      ],
      "execution_count": 159,
      "outputs": [
        {
          "output_type": "stream",
          "text": [
            "InvoiceNo           0\n",
            "StockCode           0\n",
            "Description      1455\n",
            "Quantity            0\n",
            "InvoiceDate         0\n",
            "UnitPrice           0\n",
            "CustomerID     135080\n",
            "Country             0\n",
            "dtype: int64\n",
            "(541909, 8)\n",
            "            Quantity      UnitPrice     CustomerID\n",
            "count  541909.000000  541909.000000  406829.000000\n",
            "mean        9.552250       4.611114   15287.690570\n",
            "std       218.081158      96.759853    1713.600303\n",
            "min    -80995.000000  -11062.060000   12346.000000\n",
            "25%         1.000000       1.250000   13953.000000\n",
            "50%         3.000000       2.080000   15152.000000\n",
            "75%        10.000000       4.130000   16791.000000\n",
            "max     80995.000000   38970.000000   18287.000000\n"
          ],
          "name": "stdout"
        }
      ]
    },
    {
      "cell_type": "code",
      "metadata": {
        "colab": {
          "base_uri": "https://localhost:8080/"
        },
        "id": "zRe5fX_XY-av",
        "outputId": "f35db24f-c29c-41f9-fcf4-73fac219b63c"
      },
      "source": [
        "# What if we remove missing CustomerID's rows?\r\n",
        "df_cust = df[df['CustomerID'].notna()]\r\n",
        "print(df_cust.describe())\r\n",
        "# Do we still have missing values?\r\n",
        "print(df_cust.isna().sum())"
      ],
      "execution_count": 160,
      "outputs": [
        {
          "output_type": "stream",
          "text": [
            "            Quantity      UnitPrice     CustomerID\n",
            "count  406829.000000  406829.000000  406829.000000\n",
            "mean       12.061303       3.460471   15287.690570\n",
            "std       248.693370      69.315162    1713.600303\n",
            "min    -80995.000000       0.000000   12346.000000\n",
            "25%         2.000000       1.250000   13953.000000\n",
            "50%         5.000000       1.950000   15152.000000\n",
            "75%        12.000000       3.750000   16791.000000\n",
            "max     80995.000000   38970.000000   18287.000000\n",
            "InvoiceNo      0\n",
            "StockCode      0\n",
            "Description    0\n",
            "Quantity       0\n",
            "InvoiceDate    0\n",
            "UnitPrice      0\n",
            "CustomerID     0\n",
            "Country        0\n",
            "dtype: int64\n"
          ],
          "name": "stdout"
        }
      ]
    },
    {
      "cell_type": "markdown",
      "metadata": {
        "id": "d7kxX1w3Kd9f"
      },
      "source": [
        "#### Noisy Data"
      ]
    },
    {
      "cell_type": "markdown",
      "metadata": {
        "id": "LcpxE_0rKq_P"
      },
      "source": [
        "### DataTransformation\r\n",
        "#### Normalization"
      ]
    },
    {
      "cell_type": "markdown",
      "metadata": {
        "id": "yl8vF6vOLRRp"
      },
      "source": [
        "#### Attribute Selection"
      ]
    },
    {
      "cell_type": "markdown",
      "metadata": {
        "id": "40Nu5pEmLkFp"
      },
      "source": [
        "#### Discretization"
      ]
    },
    {
      "cell_type": "markdown",
      "metadata": {
        "id": "kKn3_kZlLnh5"
      },
      "source": [
        "#### Concept Hierachy Generation"
      ]
    },
    {
      "cell_type": "markdown",
      "metadata": {
        "id": "KkzHBag9Lq-t"
      },
      "source": [
        "### Data Reduction"
      ]
    },
    {
      "cell_type": "markdown",
      "metadata": {
        "id": "JdC8HFkDLt6y"
      },
      "source": [
        "#### Data Cube Aggregation"
      ]
    },
    {
      "cell_type": "markdown",
      "metadata": {
        "id": "0rJBd9GSM9NY"
      },
      "source": [
        "#### Attribute Subset Selection"
      ]
    },
    {
      "cell_type": "code",
      "metadata": {
        "id": "wnJpP572qFR5"
      },
      "source": [
        "# TODO ADD fe here"
      ],
      "execution_count": 161,
      "outputs": []
    },
    {
      "cell_type": "markdown",
      "metadata": {
        "id": "oeJWe3eZM_Uo"
      },
      "source": [
        "#### Numerosity Reduction"
      ]
    },
    {
      "cell_type": "markdown",
      "metadata": {
        "id": "I7uW00jzNNAV"
      },
      "source": [
        "#### Dimensionality Reduction"
      ]
    },
    {
      "cell_type": "markdown",
      "metadata": {
        "id": "txuWoNd2CX_h"
      },
      "source": [
        "### Feature Engineering"
      ]
    },
    {
      "cell_type": "code",
      "metadata": {
        "id": "Uy-Y-SdcCa-_",
        "colab": {
          "base_uri": "https://localhost:8080/"
        },
        "outputId": "1690ccf4-7827-4514-c1a0-f0b2884747cf"
      },
      "source": [
        "# sales = unitprice*quantity\r\n",
        "df['Sales'] = df['UnitPrice'] * df['Quantity']\r\n",
        "# Remove outliers??\r\n",
        "# df = df[df['Sales'] <30000]\r\n",
        "# df = df[df['Sales'] > -30000]\r\n",
        "\r\n",
        "# Create date, month and year columns\r\n",
        "# df[\"InvoiceDate\"]=pd.to_datetime(df[\"InvoiceDate\"]).dt.date\r\n",
        "df[\"InvoiceDate\"]=pd.to_datetime(df['InvoiceDate'],format='%d-%m-%Y %H:%M')\r\n",
        "df[\"InvoiceMonth\"]=pd.DatetimeIndex(df[\"InvoiceDate\"]).month\r\n",
        "df[\"InvoiceYear\"]=pd.DatetimeIndex(df[\"InvoiceDate\"]).year\r\n",
        "\r\n",
        "print(df.describe())"
      ],
      "execution_count": 162,
      "outputs": [
        {
          "output_type": "stream",
          "text": [
            "            Quantity      UnitPrice  ...   InvoiceMonth    InvoiceYear\n",
            "count  541909.000000  541909.000000  ...  541909.000000  541909.000000\n",
            "mean        9.552250       4.611114  ...       7.553128    2010.921609\n",
            "std       218.081158      96.759853  ...       3.509055       0.268787\n",
            "min    -80995.000000  -11062.060000  ...       1.000000    2010.000000\n",
            "25%         1.000000       1.250000  ...       5.000000    2011.000000\n",
            "50%         3.000000       2.080000  ...       8.000000    2011.000000\n",
            "75%        10.000000       4.130000  ...      11.000000    2011.000000\n",
            "max     80995.000000   38970.000000  ...      12.000000    2011.000000\n",
            "\n",
            "[8 rows x 6 columns]\n"
          ],
          "name": "stdout"
        }
      ]
    },
    {
      "cell_type": "code",
      "metadata": {
        "id": "A2c74f04RPmH"
      },
      "source": [
        "df['InvoiceMonth'].hist()\r\n",
        "plt.show()"
      ],
      "execution_count": 163,
      "outputs": []
    },
    {
      "cell_type": "markdown",
      "metadata": {
        "id": "W4BrgSvhXmxt"
      },
      "source": [
        "#### Prepare new df for RFM Analysis "
      ]
    },
    {
      "cell_type": "code",
      "metadata": {
        "colab": {
          "base_uri": "https://localhost:8080/",
          "height": 442
        },
        "id": "r2buKnxqYESD",
        "outputId": "bee304b1-93a8-4ebd-c8f4-fc025bfc6d6a"
      },
      "source": [
        "# Create sales rfm\r\n",
        "rfm_sales = df.groupby('CustomerID')['Sales'].sum()\r\n",
        "rfm_sales = rfm_sales.reset_index()\r\n",
        "print('Sales rfm')\r\n",
        "print(rfm_sales.head())\r\n",
        "\r\n",
        "# Create Frequency rfm\r\n",
        "rfm_freq = df.groupby('CustomerID')['InvoiceNo'].count()\r\n",
        "rfm_freq = rfm_freq.reset_index()\r\n",
        "rfm_freq.columns = ['CustomerID', 'Frequency']\r\n",
        "print('Frequency rfm')\r\n",
        "print(rfm_freq.head())\r\n",
        "\r\n",
        "# Main rfm df\r\n",
        "rfm = pd.merge(rfm_sales, rfm_freq, on='CustomerID', how='inner')\r\n",
        "\r\n",
        "# Create recency rfm\r\n",
        "max_date = max(df['InvoiceDate'])\r\n",
        "df['date_difference'] = max_date - df['InvoiceDate']\r\n",
        "rfm_p = df.groupby('CustomerID')['date_difference'].min()\r\n",
        "rfm_p = rfm_p.reset_index()\r\n",
        "rfm_p['date_difference'] = rfm_p['date_difference'].dt.days\r\n",
        "\r\n",
        "# All in one\r\n",
        "rfm = pd.merge(rfm, rfm_p, on='CustomerID', how='inner')\r\n",
        "rfm.columns = ['CustomerID', 'Sales', 'Frequency', 'Recency']\r\n",
        "rfm.head()"
      ],
      "execution_count": 164,
      "outputs": [
        {
          "output_type": "stream",
          "text": [
            "Sales rfm\n",
            "   CustomerID    Sales\n",
            "0     12346.0     0.00\n",
            "1     12347.0  4310.00\n",
            "2     12348.0  1797.24\n",
            "3     12349.0  1757.55\n",
            "4     12350.0   334.40\n",
            "Frequency rfm\n",
            "   CustomerID  Frequency\n",
            "0     12346.0          2\n",
            "1     12347.0        182\n",
            "2     12348.0         31\n",
            "3     12349.0         73\n",
            "4     12350.0         17\n"
          ],
          "name": "stdout"
        },
        {
          "output_type": "execute_result",
          "data": {
            "text/html": [
              "<div>\n",
              "<style scoped>\n",
              "    .dataframe tbody tr th:only-of-type {\n",
              "        vertical-align: middle;\n",
              "    }\n",
              "\n",
              "    .dataframe tbody tr th {\n",
              "        vertical-align: top;\n",
              "    }\n",
              "\n",
              "    .dataframe thead th {\n",
              "        text-align: right;\n",
              "    }\n",
              "</style>\n",
              "<table border=\"1\" class=\"dataframe\">\n",
              "  <thead>\n",
              "    <tr style=\"text-align: right;\">\n",
              "      <th></th>\n",
              "      <th>CustomerID</th>\n",
              "      <th>Sales</th>\n",
              "      <th>Frequency</th>\n",
              "      <th>Recency</th>\n",
              "    </tr>\n",
              "  </thead>\n",
              "  <tbody>\n",
              "    <tr>\n",
              "      <th>0</th>\n",
              "      <td>12346.0</td>\n",
              "      <td>0.00</td>\n",
              "      <td>2</td>\n",
              "      <td>325</td>\n",
              "    </tr>\n",
              "    <tr>\n",
              "      <th>1</th>\n",
              "      <td>12347.0</td>\n",
              "      <td>4310.00</td>\n",
              "      <td>182</td>\n",
              "      <td>1</td>\n",
              "    </tr>\n",
              "    <tr>\n",
              "      <th>2</th>\n",
              "      <td>12348.0</td>\n",
              "      <td>1797.24</td>\n",
              "      <td>31</td>\n",
              "      <td>74</td>\n",
              "    </tr>\n",
              "    <tr>\n",
              "      <th>3</th>\n",
              "      <td>12349.0</td>\n",
              "      <td>1757.55</td>\n",
              "      <td>73</td>\n",
              "      <td>18</td>\n",
              "    </tr>\n",
              "    <tr>\n",
              "      <th>4</th>\n",
              "      <td>12350.0</td>\n",
              "      <td>334.40</td>\n",
              "      <td>17</td>\n",
              "      <td>309</td>\n",
              "    </tr>\n",
              "  </tbody>\n",
              "</table>\n",
              "</div>"
            ],
            "text/plain": [
              "   CustomerID    Sales  Frequency  Recency\n",
              "0     12346.0     0.00          2      325\n",
              "1     12347.0  4310.00        182        1\n",
              "2     12348.0  1797.24         31       74\n",
              "3     12349.0  1757.55         73       18\n",
              "4     12350.0   334.40         17      309"
            ]
          },
          "metadata": {
            "tags": []
          },
          "execution_count": 164
        }
      ]
    },
    {
      "cell_type": "markdown",
      "metadata": {
        "id": "BjTIDVDzudfZ"
      },
      "source": [
        "##### Visualization"
      ]
    },
    {
      "cell_type": "code",
      "metadata": {
        "colab": {
          "base_uri": "https://localhost:8080/"
        },
        "id": "UQv8HUuXugHn",
        "outputId": "d8994a38-dbd1-4482-e188-b1c755ae8634"
      },
      "source": [
        "# Look at the distribution of Recency\r\n",
        "plt.figure(figsize=(10,5))\r\n",
        "sns.distplot(rfm[\"Sales\"])\r\n",
        "plt.title(\"Sales Distribution\")\r\n",
        "plt.xlabel(\"Sales\")"
      ],
      "execution_count": 165,
      "outputs": [
        {
          "output_type": "stream",
          "text": [
            "/usr/local/lib/python3.7/dist-packages/seaborn/distributions.py:2557: FutureWarning: `distplot` is a deprecated function and will be removed in a future version. Please adapt your code to use either `displot` (a figure-level function with similar flexibility) or `histplot` (an axes-level function for histograms).\n",
            "  warnings.warn(msg, FutureWarning)\n"
          ],
          "name": "stderr"
        },
        {
          "output_type": "execute_result",
          "data": {
            "text/plain": [
              "Text(0.5, 0, 'Sales')"
            ]
          },
          "metadata": {
            "tags": []
          },
          "execution_count": 165
        }
      ]
    },
    {
      "cell_type": "code",
      "metadata": {
        "colab": {
          "base_uri": "https://localhost:8080/"
        },
        "id": "PYDenib2JbSU",
        "outputId": "f14461fd-9684-4d7a-b70c-816fda514593"
      },
      "source": [
        "# Look at the distribution of Recency\r\n",
        "fig, axes = plt.subplots(1, 2, figsize=(15, 5), sharey=True)\r\n",
        "sns.distplot(rfm[\"Recency\"], ax=axes[0])\r\n",
        "axes[0].set_title(\"Recency Distribution\")\r\n",
        "sns.distplot(rfm[\"Frequency\"], ax=axes[1])\r\n",
        "axes[1].set_title(\"Frequency Distribution\")"
      ],
      "execution_count": 166,
      "outputs": [
        {
          "output_type": "stream",
          "text": [
            "/usr/local/lib/python3.7/dist-packages/seaborn/distributions.py:2557: FutureWarning: `distplot` is a deprecated function and will be removed in a future version. Please adapt your code to use either `displot` (a figure-level function with similar flexibility) or `histplot` (an axes-level function for histograms).\n",
            "  warnings.warn(msg, FutureWarning)\n",
            "/usr/local/lib/python3.7/dist-packages/seaborn/distributions.py:2557: FutureWarning: `distplot` is a deprecated function and will be removed in a future version. Please adapt your code to use either `displot` (a figure-level function with similar flexibility) or `histplot` (an axes-level function for histograms).\n",
            "  warnings.warn(msg, FutureWarning)\n"
          ],
          "name": "stderr"
        },
        {
          "output_type": "execute_result",
          "data": {
            "text/plain": [
              "Text(0.5, 1.0, 'Frequency Distribution')"
            ]
          },
          "metadata": {
            "tags": []
          },
          "execution_count": 166
        }
      ]
    },
    {
      "cell_type": "markdown",
      "metadata": {
        "id": "R-KkK8v6sqnr"
      },
      "source": [
        "##### Check outliers"
      ]
    },
    {
      "cell_type": "code",
      "metadata": {
        "colab": {
          "base_uri": "https://localhost:8080/"
        },
        "id": "glLmZWrusv-0",
        "outputId": "c9443398-c3e0-4ae8-a188-e44ba5be8ecd"
      },
      "source": [
        "# Outlier Analysis of Amount Frequency and Recency\r\n",
        "\r\n",
        "attributes = ['Sales','Frequency','Recency']\r\n",
        "plt.rcParams['figure.figsize'] = [10,8]\r\n",
        "sns.boxplot(data = rfm[attributes], orient=\"v\", palette=\"Set2\" ,whis=1.5,saturation=1, width=0.7)\r\n",
        "plt.title(\"Outliers Variable Distribution\", fontsize = 14, fontweight = 'bold')\r\n",
        "plt.ylabel(\"Range\", fontweight = 'bold')\r\n",
        "plt.xlabel(\"Attributes\", fontweight = 'bold')"
      ],
      "execution_count": 167,
      "outputs": [
        {
          "output_type": "execute_result",
          "data": {
            "text/plain": [
              "Text(0.5, 3.6999999999999815, 'Attributes')"
            ]
          },
          "metadata": {
            "tags": []
          },
          "execution_count": 167
        }
      ]
    },
    {
      "cell_type": "code",
      "metadata": {
        "id": "TnMWmbJUst5j"
      },
      "source": [
        "# Removing (statistical) outliers for Sales\r\n",
        "Q1 = rfm.Sales.quantile(0.05)\r\n",
        "Q3 = rfm.Sales.quantile(0.95)\r\n",
        "IQR = Q3 - Q1\r\n",
        "rfm = rfm[(rfm.Sales >= Q1 - 1.5*IQR) & (rfm.Sales <= Q3 + 1.5*IQR)]\r\n",
        "\r\n",
        "# Removing (statistical) outliers for Recency\r\n",
        "Q1 = rfm.Recency.quantile(0.05)\r\n",
        "Q3 = rfm.Recency.quantile(0.95)\r\n",
        "IQR = Q3 - Q1\r\n",
        "rfm = rfm[(rfm.Recency >= Q1 - 1.5*IQR) & (rfm.Recency <= Q3 + 1.5*IQR)]\r\n",
        "\r\n",
        "# Removing (statistical) outliers for Frequency\r\n",
        "Q1 = rfm.Frequency.quantile(0.05)\r\n",
        "Q3 = rfm.Frequency.quantile(0.95)\r\n",
        "IQR = Q3 - Q1\r\n",
        "rfm = rfm[(rfm.Frequency >= Q1 - 1.5*IQR) & (rfm.Frequency <= Q3 + 1.5*IQR)]"
      ],
      "execution_count": 168,
      "outputs": []
    },
    {
      "cell_type": "markdown",
      "metadata": {
        "id": "Lv4y116t-DbX"
      },
      "source": [
        "# Data Visualization"
      ]
    },
    {
      "cell_type": "code",
      "metadata": {
        "colab": {
          "base_uri": "https://localhost:8080/"
        },
        "id": "xURdc-X4inHs",
        "outputId": "3a8be295-270a-4ea8-8fb3-dc1f4ee6703f"
      },
      "source": [
        "#Monthly Sales Overview\r\n",
        "df_Sales=df.groupby([\"InvoiceMonth\", \"InvoiceYear\"])[\"Sales\"].sum().reset_index()\r\n",
        "plt.figure(figsize=(15,10))\r\n",
        "sns.barplot(x=\"InvoiceMonth\", y=\"Sales\", hue=\"InvoiceYear\", data=df_Sales)\r\n",
        "plt.title(\"Monthly Sales\")\r\n",
        "plt.xlabel(\"Month\")\r\n",
        "plt.ylabel(\"Sales\")"
      ],
      "execution_count": 169,
      "outputs": [
        {
          "output_type": "stream",
          "text": [
            "/usr/local/lib/python3.7/dist-packages/ipykernel_launcher.py:3: RuntimeWarning: More than 20 figures have been opened. Figures created through the pyplot interface (`matplotlib.pyplot.figure`) are retained until explicitly closed and may consume too much memory. (To control this warning, see the rcParam `figure.max_open_warning`).\n",
            "  This is separate from the ipykernel package so we can avoid doing imports until\n"
          ],
          "name": "stderr"
        },
        {
          "output_type": "execute_result",
          "data": {
            "text/plain": [
              "Text(0, 0.5, 'Sales')"
            ]
          },
          "metadata": {
            "tags": []
          },
          "execution_count": 169
        }
      ]
    },
    {
      "cell_type": "code",
      "metadata": {
        "colab": {
          "base_uri": "https://localhost:8080/"
        },
        "id": "h5ednjnwE2YW",
        "outputId": "b0222746-c6a4-4b69-87f1-17c0576aed84"
      },
      "source": [
        "# visualizing the sales in the entire globe\r\n",
        "plt.rcParams['figure.figsize'] = (15, 5)\r\n",
        "sns.distplot(df['Sales'], color = 'crimson', hist=False)\r\n",
        "plt.title('Distribution of Sales', fontsize = 20)\r\n",
        "plt.xlabel('Sales worldwide')\r\n",
        "plt.ylabel('Sales')\r\n",
        "plt.show()"
      ],
      "execution_count": 170,
      "outputs": [
        {
          "output_type": "stream",
          "text": [
            "/usr/local/lib/python3.7/dist-packages/seaborn/distributions.py:2557: FutureWarning: `distplot` is a deprecated function and will be removed in a future version. Please adapt your code to use either `displot` (a figure-level function with similar flexibility) or `kdeplot` (an axes-level function for kernel density plots).\n",
            "  warnings.warn(msg, FutureWarning)\n"
          ],
          "name": "stderr"
        }
      ]
    },
    {
      "cell_type": "code",
      "metadata": {
        "colab": {
          "base_uri": "https://localhost:8080/"
        },
        "id": "hZLQYF5U-GN2",
        "outputId": "1a1ec272-b738-4947-e1ca-9fbf8849434d"
      },
      "source": [
        "# visualizing the unitprice\r\n",
        "\r\n",
        "plt.rcParams['figure.figsize'] = (15, 7)\r\n",
        "plt.style.use('fivethirtyeight')\r\n",
        "sns.distplot(df['UnitPrice'], color = 'lightblue', hist=False)\r\n",
        "plt.title('Distribution of Unit price', fontsize = 20)\r\n",
        "plt.xlabel('Different Unit Price for different items')\r\n",
        "plt.ylabel('count')\r\n",
        "plt.show()"
      ],
      "execution_count": 171,
      "outputs": [
        {
          "output_type": "stream",
          "text": [
            "/usr/local/lib/python3.7/dist-packages/seaborn/distributions.py:2557: FutureWarning: `distplot` is a deprecated function and will be removed in a future version. Please adapt your code to use either `displot` (a figure-level function with similar flexibility) or `kdeplot` (an axes-level function for kernel density plots).\n",
            "  warnings.warn(msg, FutureWarning)\n"
          ],
          "name": "stderr"
        }
      ]
    },
    {
      "cell_type": "code",
      "metadata": {
        "id": "I5OAEohSB7kw"
      },
      "source": [
        "# checking the different values for country in the dataset\r\n",
        "\r\n",
        "plt.rcParams['figure.figsize'] = (12, 10)\r\n",
        "a = df['Country'].value_counts().tail(20)\r\n",
        "sns.barplot(x = a.values, y = a.index, palette = 'inferno')\r\n",
        "plt.title('Bottom 20 Countries having Online Retail Market', fontsize = 20)\r\n",
        "plt.xlabel('Names of Countries')\r\n",
        "plt.ylabel('Count')\r\n",
        "plt.show()"
      ],
      "execution_count": 172,
      "outputs": []
    },
    {
      "cell_type": "code",
      "metadata": {
        "colab": {
          "base_uri": "https://localhost:8080/",
          "height": 793
        },
        "id": "lExmtm3T-rG5",
        "outputId": "ea491f7a-356d-4115-fc69-1e3a1f2787ce"
      },
      "source": [
        "# checking the different values for country in the dataset\r\n",
        "\r\n",
        "df['Country'].value_counts().head(20)\r\n",
        "df"
      ],
      "execution_count": 173,
      "outputs": [
        {
          "output_type": "execute_result",
          "data": {
            "text/html": [
              "<div>\n",
              "<style scoped>\n",
              "    .dataframe tbody tr th:only-of-type {\n",
              "        vertical-align: middle;\n",
              "    }\n",
              "\n",
              "    .dataframe tbody tr th {\n",
              "        vertical-align: top;\n",
              "    }\n",
              "\n",
              "    .dataframe thead th {\n",
              "        text-align: right;\n",
              "    }\n",
              "</style>\n",
              "<table border=\"1\" class=\"dataframe\">\n",
              "  <thead>\n",
              "    <tr style=\"text-align: right;\">\n",
              "      <th></th>\n",
              "      <th>InvoiceNo</th>\n",
              "      <th>StockCode</th>\n",
              "      <th>Description</th>\n",
              "      <th>Quantity</th>\n",
              "      <th>InvoiceDate</th>\n",
              "      <th>UnitPrice</th>\n",
              "      <th>CustomerID</th>\n",
              "      <th>Country</th>\n",
              "      <th>Sales</th>\n",
              "      <th>InvoiceMonth</th>\n",
              "      <th>InvoiceYear</th>\n",
              "      <th>date_difference</th>\n",
              "    </tr>\n",
              "  </thead>\n",
              "  <tbody>\n",
              "    <tr>\n",
              "      <th>0</th>\n",
              "      <td>536365</td>\n",
              "      <td>85123A</td>\n",
              "      <td>WHITE HANGING HEART T-LIGHT HOLDER</td>\n",
              "      <td>6</td>\n",
              "      <td>2010-12-01 08:26:00</td>\n",
              "      <td>2.55</td>\n",
              "      <td>17850.0</td>\n",
              "      <td>United Kingdom</td>\n",
              "      <td>15.30</td>\n",
              "      <td>12</td>\n",
              "      <td>2010</td>\n",
              "      <td>373 days 04:24:00</td>\n",
              "    </tr>\n",
              "    <tr>\n",
              "      <th>1</th>\n",
              "      <td>536365</td>\n",
              "      <td>71053</td>\n",
              "      <td>WHITE METAL LANTERN</td>\n",
              "      <td>6</td>\n",
              "      <td>2010-12-01 08:26:00</td>\n",
              "      <td>3.39</td>\n",
              "      <td>17850.0</td>\n",
              "      <td>United Kingdom</td>\n",
              "      <td>20.34</td>\n",
              "      <td>12</td>\n",
              "      <td>2010</td>\n",
              "      <td>373 days 04:24:00</td>\n",
              "    </tr>\n",
              "    <tr>\n",
              "      <th>2</th>\n",
              "      <td>536365</td>\n",
              "      <td>84406B</td>\n",
              "      <td>CREAM CUPID HEARTS COAT HANGER</td>\n",
              "      <td>8</td>\n",
              "      <td>2010-12-01 08:26:00</td>\n",
              "      <td>2.75</td>\n",
              "      <td>17850.0</td>\n",
              "      <td>United Kingdom</td>\n",
              "      <td>22.00</td>\n",
              "      <td>12</td>\n",
              "      <td>2010</td>\n",
              "      <td>373 days 04:24:00</td>\n",
              "    </tr>\n",
              "    <tr>\n",
              "      <th>3</th>\n",
              "      <td>536365</td>\n",
              "      <td>84029G</td>\n",
              "      <td>KNITTED UNION FLAG HOT WATER BOTTLE</td>\n",
              "      <td>6</td>\n",
              "      <td>2010-12-01 08:26:00</td>\n",
              "      <td>3.39</td>\n",
              "      <td>17850.0</td>\n",
              "      <td>United Kingdom</td>\n",
              "      <td>20.34</td>\n",
              "      <td>12</td>\n",
              "      <td>2010</td>\n",
              "      <td>373 days 04:24:00</td>\n",
              "    </tr>\n",
              "    <tr>\n",
              "      <th>4</th>\n",
              "      <td>536365</td>\n",
              "      <td>84029E</td>\n",
              "      <td>RED WOOLLY HOTTIE WHITE HEART.</td>\n",
              "      <td>6</td>\n",
              "      <td>2010-12-01 08:26:00</td>\n",
              "      <td>3.39</td>\n",
              "      <td>17850.0</td>\n",
              "      <td>United Kingdom</td>\n",
              "      <td>20.34</td>\n",
              "      <td>12</td>\n",
              "      <td>2010</td>\n",
              "      <td>373 days 04:24:00</td>\n",
              "    </tr>\n",
              "    <tr>\n",
              "      <th>...</th>\n",
              "      <td>...</td>\n",
              "      <td>...</td>\n",
              "      <td>...</td>\n",
              "      <td>...</td>\n",
              "      <td>...</td>\n",
              "      <td>...</td>\n",
              "      <td>...</td>\n",
              "      <td>...</td>\n",
              "      <td>...</td>\n",
              "      <td>...</td>\n",
              "      <td>...</td>\n",
              "      <td>...</td>\n",
              "    </tr>\n",
              "    <tr>\n",
              "      <th>541904</th>\n",
              "      <td>581587</td>\n",
              "      <td>22613</td>\n",
              "      <td>PACK OF 20 SPACEBOY NAPKINS</td>\n",
              "      <td>12</td>\n",
              "      <td>2011-12-09 12:50:00</td>\n",
              "      <td>0.85</td>\n",
              "      <td>12680.0</td>\n",
              "      <td>France</td>\n",
              "      <td>10.20</td>\n",
              "      <td>12</td>\n",
              "      <td>2011</td>\n",
              "      <td>0 days 00:00:00</td>\n",
              "    </tr>\n",
              "    <tr>\n",
              "      <th>541905</th>\n",
              "      <td>581587</td>\n",
              "      <td>22899</td>\n",
              "      <td>CHILDREN'S APRON DOLLY GIRL</td>\n",
              "      <td>6</td>\n",
              "      <td>2011-12-09 12:50:00</td>\n",
              "      <td>2.10</td>\n",
              "      <td>12680.0</td>\n",
              "      <td>France</td>\n",
              "      <td>12.60</td>\n",
              "      <td>12</td>\n",
              "      <td>2011</td>\n",
              "      <td>0 days 00:00:00</td>\n",
              "    </tr>\n",
              "    <tr>\n",
              "      <th>541906</th>\n",
              "      <td>581587</td>\n",
              "      <td>23254</td>\n",
              "      <td>CHILDRENS CUTLERY DOLLY GIRL</td>\n",
              "      <td>4</td>\n",
              "      <td>2011-12-09 12:50:00</td>\n",
              "      <td>4.15</td>\n",
              "      <td>12680.0</td>\n",
              "      <td>France</td>\n",
              "      <td>16.60</td>\n",
              "      <td>12</td>\n",
              "      <td>2011</td>\n",
              "      <td>0 days 00:00:00</td>\n",
              "    </tr>\n",
              "    <tr>\n",
              "      <th>541907</th>\n",
              "      <td>581587</td>\n",
              "      <td>23255</td>\n",
              "      <td>CHILDRENS CUTLERY CIRCUS PARADE</td>\n",
              "      <td>4</td>\n",
              "      <td>2011-12-09 12:50:00</td>\n",
              "      <td>4.15</td>\n",
              "      <td>12680.0</td>\n",
              "      <td>France</td>\n",
              "      <td>16.60</td>\n",
              "      <td>12</td>\n",
              "      <td>2011</td>\n",
              "      <td>0 days 00:00:00</td>\n",
              "    </tr>\n",
              "    <tr>\n",
              "      <th>541908</th>\n",
              "      <td>581587</td>\n",
              "      <td>22138</td>\n",
              "      <td>BAKING SET 9 PIECE RETROSPOT</td>\n",
              "      <td>3</td>\n",
              "      <td>2011-12-09 12:50:00</td>\n",
              "      <td>4.95</td>\n",
              "      <td>12680.0</td>\n",
              "      <td>France</td>\n",
              "      <td>14.85</td>\n",
              "      <td>12</td>\n",
              "      <td>2011</td>\n",
              "      <td>0 days 00:00:00</td>\n",
              "    </tr>\n",
              "  </tbody>\n",
              "</table>\n",
              "<p>541909 rows × 12 columns</p>\n",
              "</div>"
            ],
            "text/plain": [
              "       InvoiceNo StockCode  ... InvoiceYear   date_difference\n",
              "0         536365    85123A  ...        2010 373 days 04:24:00\n",
              "1         536365     71053  ...        2010 373 days 04:24:00\n",
              "2         536365    84406B  ...        2010 373 days 04:24:00\n",
              "3         536365    84029G  ...        2010 373 days 04:24:00\n",
              "4         536365    84029E  ...        2010 373 days 04:24:00\n",
              "...          ...       ...  ...         ...               ...\n",
              "541904    581587     22613  ...        2011   0 days 00:00:00\n",
              "541905    581587     22899  ...        2011   0 days 00:00:00\n",
              "541906    581587     23254  ...        2011   0 days 00:00:00\n",
              "541907    581587     23255  ...        2011   0 days 00:00:00\n",
              "541908    581587     22138  ...        2011   0 days 00:00:00\n",
              "\n",
              "[541909 rows x 12 columns]"
            ]
          },
          "metadata": {
            "tags": []
          },
          "execution_count": 173
        }
      ]
    },
    {
      "cell_type": "code",
      "metadata": {
        "id": "eVNL6oph2ju4"
      },
      "source": [
        "# time-series plot for netherlands\r\n",
        "\r\n",
        "dataset = df[df['Country'] == 'Netherlands']\r\n",
        "# dataset.set_index('InvoiceDate', inplace=True)\r\n",
        "# print(dataset)\r\n",
        "# dataset.plot(y = 'Sales')\r\n",
        "plt.plot_date(dataset['InvoiceDate'], dataset['Sales'], 'b-', xdate=True,)\r\n",
        "plt.title('Time-Series for Netherlands', fontsize = 20)\r\n",
        "plt.xlabel('Date of Purchase')\r\n",
        "plt.ylabel('Sales Amount')\r\n",
        "plt.show()"
      ],
      "execution_count": 174,
      "outputs": []
    },
    {
      "cell_type": "code",
      "metadata": {
        "id": "sWF9u4u6tlr6",
        "colab": {
          "base_uri": "https://localhost:8080/"
        },
        "outputId": "81ae1283-9056-4690-ef2b-0e1e87596611"
      },
      "source": [
        "# let's look at Sales vs Invoicedate (Time series Analysis)\r\n",
        "\r\n",
        "plt.rcParams['figure.figsize'] = (15, 5)\r\n",
        "df.plot(x = 'InvoiceDate', y = 'Sales')\r\n",
        "plt.title(\"Time Series Analysis of Sales\", fontsize = 20)\r\n",
        "plt.xlabel('Date of Purchase')\r\n",
        "plt.ylabel('Sales')\r\n",
        "plt.show()"
      ],
      "execution_count": 175,
      "outputs": [
        {
          "output_type": "stream",
          "text": [
            "/usr/local/lib/python3.7/dist-packages/pandas/plotting/_matplotlib/core.py:328: RuntimeWarning: More than 20 figures have been opened. Figures created through the pyplot interface (`matplotlib.pyplot.figure`) are retained until explicitly closed and may consume too much memory. (To control this warning, see the rcParam `figure.max_open_warning`).\n",
            "  fig = self.plt.figure(figsize=self.figsize)\n"
          ],
          "name": "stderr"
        }
      ]
    },
    {
      "cell_type": "code",
      "metadata": {
        "id": "sq06uLwVuQjK",
        "colab": {
          "base_uri": "https://localhost:8080/",
          "height": 408
        },
        "outputId": "187b7fd7-c74f-4448-b4ee-f487b64dc83c"
      },
      "source": [
        "# looking at each country's sales\r\n",
        "\r\n",
        "plt.rcParams['figure.figsize'] = (9, 12)\r\n",
        "a = df['Sales'].groupby(df['Country']).agg('sum').sort_values(ascending = False)[1:]\r\n",
        "# print(a)\r\n",
        "sns.barplot(x = a.values, y = a.index, palette = 'inferno')\r\n",
        "plt.title('Sales of all the Countries Except UK')\r\n",
        "plt.show()"
      ],
      "execution_count": 176,
      "outputs": [
        {
          "output_type": "stream",
          "text": [
            "Error in callback <function install_repl_displayhook.<locals>.post_execute at 0x7fe2ba5ed320> (for post_execute):\n"
          ],
          "name": "stdout"
        },
        {
          "output_type": "error",
          "ename": "ValueError",
          "evalue": "ignored",
          "traceback": [
            "\u001b[0;31m---------------------------------------------------------------------------\u001b[0m",
            "\u001b[0;31mValueError\u001b[0m                                Traceback (most recent call last)",
            "\u001b[0;32m/usr/local/lib/python3.7/dist-packages/matplotlib/pyplot.py\u001b[0m in \u001b[0;36mpost_execute\u001b[0;34m()\u001b[0m\n\u001b[1;32m    107\u001b[0m             \u001b[0;32mdef\u001b[0m \u001b[0mpost_execute\u001b[0m\u001b[0;34m(\u001b[0m\u001b[0;34m)\u001b[0m\u001b[0;34m:\u001b[0m\u001b[0;34m\u001b[0m\u001b[0;34m\u001b[0m\u001b[0m\n\u001b[1;32m    108\u001b[0m                 \u001b[0;32mif\u001b[0m \u001b[0mmatplotlib\u001b[0m\u001b[0;34m.\u001b[0m\u001b[0mis_interactive\u001b[0m\u001b[0;34m(\u001b[0m\u001b[0;34m)\u001b[0m\u001b[0;34m:\u001b[0m\u001b[0;34m\u001b[0m\u001b[0;34m\u001b[0m\u001b[0m\n\u001b[0;32m--> 109\u001b[0;31m                     \u001b[0mdraw_all\u001b[0m\u001b[0;34m(\u001b[0m\u001b[0;34m)\u001b[0m\u001b[0;34m\u001b[0m\u001b[0;34m\u001b[0m\u001b[0m\n\u001b[0m\u001b[1;32m    110\u001b[0m \u001b[0;34m\u001b[0m\u001b[0m\n\u001b[1;32m    111\u001b[0m             \u001b[0;31m# IPython >= 2\u001b[0m\u001b[0;34m\u001b[0m\u001b[0;34m\u001b[0m\u001b[0;34m\u001b[0m\u001b[0m\n",
            "\u001b[0;32m/usr/local/lib/python3.7/dist-packages/matplotlib/_pylab_helpers.py\u001b[0m in \u001b[0;36mdraw_all\u001b[0;34m(cls, force)\u001b[0m\n\u001b[1;32m    125\u001b[0m         \u001b[0;32mfor\u001b[0m \u001b[0mf_mgr\u001b[0m \u001b[0;32min\u001b[0m \u001b[0mcls\u001b[0m\u001b[0;34m.\u001b[0m\u001b[0mget_all_fig_managers\u001b[0m\u001b[0;34m(\u001b[0m\u001b[0;34m)\u001b[0m\u001b[0;34m:\u001b[0m\u001b[0;34m\u001b[0m\u001b[0;34m\u001b[0m\u001b[0m\n\u001b[1;32m    126\u001b[0m             \u001b[0;32mif\u001b[0m \u001b[0mforce\u001b[0m \u001b[0;32mor\u001b[0m \u001b[0mf_mgr\u001b[0m\u001b[0;34m.\u001b[0m\u001b[0mcanvas\u001b[0m\u001b[0;34m.\u001b[0m\u001b[0mfigure\u001b[0m\u001b[0;34m.\u001b[0m\u001b[0mstale\u001b[0m\u001b[0;34m:\u001b[0m\u001b[0;34m\u001b[0m\u001b[0;34m\u001b[0m\u001b[0m\n\u001b[0;32m--> 127\u001b[0;31m                 \u001b[0mf_mgr\u001b[0m\u001b[0;34m.\u001b[0m\u001b[0mcanvas\u001b[0m\u001b[0;34m.\u001b[0m\u001b[0mdraw_idle\u001b[0m\u001b[0;34m(\u001b[0m\u001b[0;34m)\u001b[0m\u001b[0;34m\u001b[0m\u001b[0;34m\u001b[0m\u001b[0m\n\u001b[0m\u001b[1;32m    128\u001b[0m \u001b[0;34m\u001b[0m\u001b[0m\n\u001b[1;32m    129\u001b[0m \u001b[0matexit\u001b[0m\u001b[0;34m.\u001b[0m\u001b[0mregister\u001b[0m\u001b[0;34m(\u001b[0m\u001b[0mGcf\u001b[0m\u001b[0;34m.\u001b[0m\u001b[0mdestroy_all\u001b[0m\u001b[0;34m)\u001b[0m\u001b[0;34m\u001b[0m\u001b[0;34m\u001b[0m\u001b[0m\n",
            "\u001b[0;32m/usr/local/lib/python3.7/dist-packages/matplotlib/backend_bases.py\u001b[0m in \u001b[0;36mdraw_idle\u001b[0;34m(self, *args, **kwargs)\u001b[0m\n\u001b[1;32m   1945\u001b[0m         \u001b[0;32mif\u001b[0m \u001b[0;32mnot\u001b[0m \u001b[0mself\u001b[0m\u001b[0;34m.\u001b[0m\u001b[0m_is_idle_drawing\u001b[0m\u001b[0;34m:\u001b[0m\u001b[0;34m\u001b[0m\u001b[0;34m\u001b[0m\u001b[0m\n\u001b[1;32m   1946\u001b[0m             \u001b[0;32mwith\u001b[0m \u001b[0mself\u001b[0m\u001b[0;34m.\u001b[0m\u001b[0m_idle_draw_cntx\u001b[0m\u001b[0;34m(\u001b[0m\u001b[0;34m)\u001b[0m\u001b[0;34m:\u001b[0m\u001b[0;34m\u001b[0m\u001b[0;34m\u001b[0m\u001b[0m\n\u001b[0;32m-> 1947\u001b[0;31m                 \u001b[0mself\u001b[0m\u001b[0;34m.\u001b[0m\u001b[0mdraw\u001b[0m\u001b[0;34m(\u001b[0m\u001b[0;34m*\u001b[0m\u001b[0margs\u001b[0m\u001b[0;34m,\u001b[0m \u001b[0;34m**\u001b[0m\u001b[0mkwargs\u001b[0m\u001b[0;34m)\u001b[0m\u001b[0;34m\u001b[0m\u001b[0;34m\u001b[0m\u001b[0m\n\u001b[0m\u001b[1;32m   1948\u001b[0m \u001b[0;34m\u001b[0m\u001b[0m\n\u001b[1;32m   1949\u001b[0m     \u001b[0;34m@\u001b[0m\u001b[0mcbook\u001b[0m\u001b[0;34m.\u001b[0m\u001b[0mdeprecated\u001b[0m\u001b[0;34m(\u001b[0m\u001b[0;34m\"3.2\"\u001b[0m\u001b[0;34m)\u001b[0m\u001b[0;34m\u001b[0m\u001b[0;34m\u001b[0m\u001b[0m\n",
            "\u001b[0;32m/usr/local/lib/python3.7/dist-packages/matplotlib/backends/backend_agg.py\u001b[0m in \u001b[0;36mdraw\u001b[0;34m(self)\u001b[0m\n\u001b[1;32m    391\u001b[0m              (self.toolbar._wait_cursor_for_draw_cm() if self.toolbar\n\u001b[1;32m    392\u001b[0m               else nullcontext()):\n\u001b[0;32m--> 393\u001b[0;31m             \u001b[0mself\u001b[0m\u001b[0;34m.\u001b[0m\u001b[0mfigure\u001b[0m\u001b[0;34m.\u001b[0m\u001b[0mdraw\u001b[0m\u001b[0;34m(\u001b[0m\u001b[0mself\u001b[0m\u001b[0;34m.\u001b[0m\u001b[0mrenderer\u001b[0m\u001b[0;34m)\u001b[0m\u001b[0;34m\u001b[0m\u001b[0;34m\u001b[0m\u001b[0m\n\u001b[0m\u001b[1;32m    394\u001b[0m             \u001b[0;31m# A GUI class may be need to update a window using this draw, so\u001b[0m\u001b[0;34m\u001b[0m\u001b[0;34m\u001b[0m\u001b[0;34m\u001b[0m\u001b[0m\n\u001b[1;32m    395\u001b[0m             \u001b[0;31m# don't forget to call the superclass.\u001b[0m\u001b[0;34m\u001b[0m\u001b[0;34m\u001b[0m\u001b[0;34m\u001b[0m\u001b[0m\n",
            "\u001b[0;32m/usr/local/lib/python3.7/dist-packages/matplotlib/artist.py\u001b[0m in \u001b[0;36mdraw_wrapper\u001b[0;34m(artist, renderer, *args, **kwargs)\u001b[0m\n\u001b[1;32m     36\u001b[0m                 \u001b[0mrenderer\u001b[0m\u001b[0;34m.\u001b[0m\u001b[0mstart_filter\u001b[0m\u001b[0;34m(\u001b[0m\u001b[0;34m)\u001b[0m\u001b[0;34m\u001b[0m\u001b[0;34m\u001b[0m\u001b[0m\n\u001b[1;32m     37\u001b[0m \u001b[0;34m\u001b[0m\u001b[0m\n\u001b[0;32m---> 38\u001b[0;31m             \u001b[0;32mreturn\u001b[0m \u001b[0mdraw\u001b[0m\u001b[0;34m(\u001b[0m\u001b[0martist\u001b[0m\u001b[0;34m,\u001b[0m \u001b[0mrenderer\u001b[0m\u001b[0;34m,\u001b[0m \u001b[0;34m*\u001b[0m\u001b[0margs\u001b[0m\u001b[0;34m,\u001b[0m \u001b[0;34m**\u001b[0m\u001b[0mkwargs\u001b[0m\u001b[0;34m)\u001b[0m\u001b[0;34m\u001b[0m\u001b[0;34m\u001b[0m\u001b[0m\n\u001b[0m\u001b[1;32m     39\u001b[0m         \u001b[0;32mfinally\u001b[0m\u001b[0;34m:\u001b[0m\u001b[0;34m\u001b[0m\u001b[0;34m\u001b[0m\u001b[0m\n\u001b[1;32m     40\u001b[0m             \u001b[0;32mif\u001b[0m \u001b[0martist\u001b[0m\u001b[0;34m.\u001b[0m\u001b[0mget_agg_filter\u001b[0m\u001b[0;34m(\u001b[0m\u001b[0;34m)\u001b[0m \u001b[0;32mis\u001b[0m \u001b[0;32mnot\u001b[0m \u001b[0;32mNone\u001b[0m\u001b[0;34m:\u001b[0m\u001b[0;34m\u001b[0m\u001b[0;34m\u001b[0m\u001b[0m\n",
            "\u001b[0;32m/usr/local/lib/python3.7/dist-packages/matplotlib/figure.py\u001b[0m in \u001b[0;36mdraw\u001b[0;34m(self, renderer)\u001b[0m\n\u001b[1;32m   1734\u001b[0m             \u001b[0mself\u001b[0m\u001b[0;34m.\u001b[0m\u001b[0mpatch\u001b[0m\u001b[0;34m.\u001b[0m\u001b[0mdraw\u001b[0m\u001b[0;34m(\u001b[0m\u001b[0mrenderer\u001b[0m\u001b[0;34m)\u001b[0m\u001b[0;34m\u001b[0m\u001b[0;34m\u001b[0m\u001b[0m\n\u001b[1;32m   1735\u001b[0m             mimage._draw_list_compositing_images(\n\u001b[0;32m-> 1736\u001b[0;31m                 renderer, self, artists, self.suppressComposite)\n\u001b[0m\u001b[1;32m   1737\u001b[0m \u001b[0;34m\u001b[0m\u001b[0m\n\u001b[1;32m   1738\u001b[0m             \u001b[0mrenderer\u001b[0m\u001b[0;34m.\u001b[0m\u001b[0mclose_group\u001b[0m\u001b[0;34m(\u001b[0m\u001b[0;34m'figure'\u001b[0m\u001b[0;34m)\u001b[0m\u001b[0;34m\u001b[0m\u001b[0;34m\u001b[0m\u001b[0m\n",
            "\u001b[0;32m/usr/local/lib/python3.7/dist-packages/matplotlib/image.py\u001b[0m in \u001b[0;36m_draw_list_compositing_images\u001b[0;34m(renderer, parent, artists, suppress_composite)\u001b[0m\n\u001b[1;32m    135\u001b[0m     \u001b[0;32mif\u001b[0m \u001b[0mnot_composite\u001b[0m \u001b[0;32mor\u001b[0m \u001b[0;32mnot\u001b[0m \u001b[0mhas_images\u001b[0m\u001b[0;34m:\u001b[0m\u001b[0;34m\u001b[0m\u001b[0;34m\u001b[0m\u001b[0m\n\u001b[1;32m    136\u001b[0m         \u001b[0;32mfor\u001b[0m \u001b[0ma\u001b[0m \u001b[0;32min\u001b[0m \u001b[0martists\u001b[0m\u001b[0;34m:\u001b[0m\u001b[0;34m\u001b[0m\u001b[0;34m\u001b[0m\u001b[0m\n\u001b[0;32m--> 137\u001b[0;31m             \u001b[0ma\u001b[0m\u001b[0;34m.\u001b[0m\u001b[0mdraw\u001b[0m\u001b[0;34m(\u001b[0m\u001b[0mrenderer\u001b[0m\u001b[0;34m)\u001b[0m\u001b[0;34m\u001b[0m\u001b[0;34m\u001b[0m\u001b[0m\n\u001b[0m\u001b[1;32m    138\u001b[0m     \u001b[0;32melse\u001b[0m\u001b[0;34m:\u001b[0m\u001b[0;34m\u001b[0m\u001b[0;34m\u001b[0m\u001b[0m\n\u001b[1;32m    139\u001b[0m         \u001b[0;31m# Composite any adjacent images together\u001b[0m\u001b[0;34m\u001b[0m\u001b[0;34m\u001b[0m\u001b[0;34m\u001b[0m\u001b[0m\n",
            "\u001b[0;32m/usr/local/lib/python3.7/dist-packages/matplotlib/artist.py\u001b[0m in \u001b[0;36mdraw_wrapper\u001b[0;34m(artist, renderer, *args, **kwargs)\u001b[0m\n\u001b[1;32m     36\u001b[0m                 \u001b[0mrenderer\u001b[0m\u001b[0;34m.\u001b[0m\u001b[0mstart_filter\u001b[0m\u001b[0;34m(\u001b[0m\u001b[0;34m)\u001b[0m\u001b[0;34m\u001b[0m\u001b[0;34m\u001b[0m\u001b[0m\n\u001b[1;32m     37\u001b[0m \u001b[0;34m\u001b[0m\u001b[0m\n\u001b[0;32m---> 38\u001b[0;31m             \u001b[0;32mreturn\u001b[0m \u001b[0mdraw\u001b[0m\u001b[0;34m(\u001b[0m\u001b[0martist\u001b[0m\u001b[0;34m,\u001b[0m \u001b[0mrenderer\u001b[0m\u001b[0;34m,\u001b[0m \u001b[0;34m*\u001b[0m\u001b[0margs\u001b[0m\u001b[0;34m,\u001b[0m \u001b[0;34m**\u001b[0m\u001b[0mkwargs\u001b[0m\u001b[0;34m)\u001b[0m\u001b[0;34m\u001b[0m\u001b[0;34m\u001b[0m\u001b[0m\n\u001b[0m\u001b[1;32m     39\u001b[0m         \u001b[0;32mfinally\u001b[0m\u001b[0;34m:\u001b[0m\u001b[0;34m\u001b[0m\u001b[0;34m\u001b[0m\u001b[0m\n\u001b[1;32m     40\u001b[0m             \u001b[0;32mif\u001b[0m \u001b[0martist\u001b[0m\u001b[0;34m.\u001b[0m\u001b[0mget_agg_filter\u001b[0m\u001b[0;34m(\u001b[0m\u001b[0;34m)\u001b[0m \u001b[0;32mis\u001b[0m \u001b[0;32mnot\u001b[0m \u001b[0;32mNone\u001b[0m\u001b[0;34m:\u001b[0m\u001b[0;34m\u001b[0m\u001b[0;34m\u001b[0m\u001b[0m\n",
            "\u001b[0;32m/usr/local/lib/python3.7/dist-packages/matplotlib/axes/_base.py\u001b[0m in \u001b[0;36mdraw\u001b[0;34m(self, renderer, inframe)\u001b[0m\n\u001b[1;32m   2628\u001b[0m             \u001b[0mrenderer\u001b[0m\u001b[0;34m.\u001b[0m\u001b[0mstop_rasterizing\u001b[0m\u001b[0;34m(\u001b[0m\u001b[0;34m)\u001b[0m\u001b[0;34m\u001b[0m\u001b[0;34m\u001b[0m\u001b[0m\n\u001b[1;32m   2629\u001b[0m \u001b[0;34m\u001b[0m\u001b[0m\n\u001b[0;32m-> 2630\u001b[0;31m         \u001b[0mmimage\u001b[0m\u001b[0;34m.\u001b[0m\u001b[0m_draw_list_compositing_images\u001b[0m\u001b[0;34m(\u001b[0m\u001b[0mrenderer\u001b[0m\u001b[0;34m,\u001b[0m \u001b[0mself\u001b[0m\u001b[0;34m,\u001b[0m \u001b[0martists\u001b[0m\u001b[0;34m)\u001b[0m\u001b[0;34m\u001b[0m\u001b[0;34m\u001b[0m\u001b[0m\n\u001b[0m\u001b[1;32m   2631\u001b[0m \u001b[0;34m\u001b[0m\u001b[0m\n\u001b[1;32m   2632\u001b[0m         \u001b[0mrenderer\u001b[0m\u001b[0;34m.\u001b[0m\u001b[0mclose_group\u001b[0m\u001b[0;34m(\u001b[0m\u001b[0;34m'axes'\u001b[0m\u001b[0;34m)\u001b[0m\u001b[0;34m\u001b[0m\u001b[0;34m\u001b[0m\u001b[0m\n",
            "\u001b[0;32m/usr/local/lib/python3.7/dist-packages/matplotlib/image.py\u001b[0m in \u001b[0;36m_draw_list_compositing_images\u001b[0;34m(renderer, parent, artists, suppress_composite)\u001b[0m\n\u001b[1;32m    135\u001b[0m     \u001b[0;32mif\u001b[0m \u001b[0mnot_composite\u001b[0m \u001b[0;32mor\u001b[0m \u001b[0;32mnot\u001b[0m \u001b[0mhas_images\u001b[0m\u001b[0;34m:\u001b[0m\u001b[0;34m\u001b[0m\u001b[0;34m\u001b[0m\u001b[0m\n\u001b[1;32m    136\u001b[0m         \u001b[0;32mfor\u001b[0m \u001b[0ma\u001b[0m \u001b[0;32min\u001b[0m \u001b[0martists\u001b[0m\u001b[0;34m:\u001b[0m\u001b[0;34m\u001b[0m\u001b[0;34m\u001b[0m\u001b[0m\n\u001b[0;32m--> 137\u001b[0;31m             \u001b[0ma\u001b[0m\u001b[0;34m.\u001b[0m\u001b[0mdraw\u001b[0m\u001b[0;34m(\u001b[0m\u001b[0mrenderer\u001b[0m\u001b[0;34m)\u001b[0m\u001b[0;34m\u001b[0m\u001b[0;34m\u001b[0m\u001b[0m\n\u001b[0m\u001b[1;32m    138\u001b[0m     \u001b[0;32melse\u001b[0m\u001b[0;34m:\u001b[0m\u001b[0;34m\u001b[0m\u001b[0;34m\u001b[0m\u001b[0m\n\u001b[1;32m    139\u001b[0m         \u001b[0;31m# Composite any adjacent images together\u001b[0m\u001b[0;34m\u001b[0m\u001b[0;34m\u001b[0m\u001b[0;34m\u001b[0m\u001b[0m\n",
            "\u001b[0;32m/usr/local/lib/python3.7/dist-packages/matplotlib/artist.py\u001b[0m in \u001b[0;36mdraw_wrapper\u001b[0;34m(artist, renderer, *args, **kwargs)\u001b[0m\n\u001b[1;32m     36\u001b[0m                 \u001b[0mrenderer\u001b[0m\u001b[0;34m.\u001b[0m\u001b[0mstart_filter\u001b[0m\u001b[0;34m(\u001b[0m\u001b[0;34m)\u001b[0m\u001b[0;34m\u001b[0m\u001b[0;34m\u001b[0m\u001b[0m\n\u001b[1;32m     37\u001b[0m \u001b[0;34m\u001b[0m\u001b[0m\n\u001b[0;32m---> 38\u001b[0;31m             \u001b[0;32mreturn\u001b[0m \u001b[0mdraw\u001b[0m\u001b[0;34m(\u001b[0m\u001b[0martist\u001b[0m\u001b[0;34m,\u001b[0m \u001b[0mrenderer\u001b[0m\u001b[0;34m,\u001b[0m \u001b[0;34m*\u001b[0m\u001b[0margs\u001b[0m\u001b[0;34m,\u001b[0m \u001b[0;34m**\u001b[0m\u001b[0mkwargs\u001b[0m\u001b[0;34m)\u001b[0m\u001b[0;34m\u001b[0m\u001b[0;34m\u001b[0m\u001b[0m\n\u001b[0m\u001b[1;32m     39\u001b[0m         \u001b[0;32mfinally\u001b[0m\u001b[0;34m:\u001b[0m\u001b[0;34m\u001b[0m\u001b[0;34m\u001b[0m\u001b[0m\n\u001b[1;32m     40\u001b[0m             \u001b[0;32mif\u001b[0m \u001b[0martist\u001b[0m\u001b[0;34m.\u001b[0m\u001b[0mget_agg_filter\u001b[0m\u001b[0;34m(\u001b[0m\u001b[0;34m)\u001b[0m \u001b[0;32mis\u001b[0m \u001b[0;32mnot\u001b[0m \u001b[0;32mNone\u001b[0m\u001b[0;34m:\u001b[0m\u001b[0;34m\u001b[0m\u001b[0;34m\u001b[0m\u001b[0m\n",
            "\u001b[0;32m/usr/local/lib/python3.7/dist-packages/matplotlib/axis.py\u001b[0m in \u001b[0;36mdraw\u001b[0;34m(self, renderer, *args, **kwargs)\u001b[0m\n\u001b[1;32m   1225\u001b[0m         \u001b[0mrenderer\u001b[0m\u001b[0;34m.\u001b[0m\u001b[0mopen_group\u001b[0m\u001b[0;34m(\u001b[0m\u001b[0m__name__\u001b[0m\u001b[0;34m,\u001b[0m \u001b[0mgid\u001b[0m\u001b[0;34m=\u001b[0m\u001b[0mself\u001b[0m\u001b[0;34m.\u001b[0m\u001b[0mget_gid\u001b[0m\u001b[0;34m(\u001b[0m\u001b[0;34m)\u001b[0m\u001b[0;34m)\u001b[0m\u001b[0;34m\u001b[0m\u001b[0;34m\u001b[0m\u001b[0m\n\u001b[1;32m   1226\u001b[0m \u001b[0;34m\u001b[0m\u001b[0m\n\u001b[0;32m-> 1227\u001b[0;31m         \u001b[0mticks_to_draw\u001b[0m \u001b[0;34m=\u001b[0m \u001b[0mself\u001b[0m\u001b[0;34m.\u001b[0m\u001b[0m_update_ticks\u001b[0m\u001b[0;34m(\u001b[0m\u001b[0;34m)\u001b[0m\u001b[0;34m\u001b[0m\u001b[0;34m\u001b[0m\u001b[0m\n\u001b[0m\u001b[1;32m   1228\u001b[0m         ticklabelBoxes, ticklabelBoxes2 = self._get_tick_bboxes(ticks_to_draw,\n\u001b[1;32m   1229\u001b[0m                                                                 renderer)\n",
            "\u001b[0;32m/usr/local/lib/python3.7/dist-packages/matplotlib/axis.py\u001b[0m in \u001b[0;36m_update_ticks\u001b[0;34m(self)\u001b[0m\n\u001b[1;32m   1101\u001b[0m         \u001b[0mthe\u001b[0m \u001b[0maxes\u001b[0m\u001b[0;34m.\u001b[0m  \u001b[0mReturn\u001b[0m \u001b[0mthe\u001b[0m \u001b[0mlist\u001b[0m \u001b[0mof\u001b[0m \u001b[0mticks\u001b[0m \u001b[0mthat\u001b[0m \u001b[0mwill\u001b[0m \u001b[0mbe\u001b[0m \u001b[0mdrawn\u001b[0m\u001b[0;34m.\u001b[0m\u001b[0;34m\u001b[0m\u001b[0;34m\u001b[0m\u001b[0m\n\u001b[1;32m   1102\u001b[0m         \"\"\"\n\u001b[0;32m-> 1103\u001b[0;31m         \u001b[0mmajor_locs\u001b[0m \u001b[0;34m=\u001b[0m \u001b[0mself\u001b[0m\u001b[0;34m.\u001b[0m\u001b[0mget_majorticklocs\u001b[0m\u001b[0;34m(\u001b[0m\u001b[0;34m)\u001b[0m\u001b[0;34m\u001b[0m\u001b[0;34m\u001b[0m\u001b[0m\n\u001b[0m\u001b[1;32m   1104\u001b[0m         \u001b[0mmajor_labels\u001b[0m \u001b[0;34m=\u001b[0m \u001b[0mself\u001b[0m\u001b[0;34m.\u001b[0m\u001b[0mmajor\u001b[0m\u001b[0;34m.\u001b[0m\u001b[0mformatter\u001b[0m\u001b[0;34m.\u001b[0m\u001b[0mformat_ticks\u001b[0m\u001b[0;34m(\u001b[0m\u001b[0mmajor_locs\u001b[0m\u001b[0;34m)\u001b[0m\u001b[0;34m\u001b[0m\u001b[0;34m\u001b[0m\u001b[0m\n\u001b[1;32m   1105\u001b[0m         \u001b[0mmajor_ticks\u001b[0m \u001b[0;34m=\u001b[0m \u001b[0mself\u001b[0m\u001b[0;34m.\u001b[0m\u001b[0mget_major_ticks\u001b[0m\u001b[0;34m(\u001b[0m\u001b[0mlen\u001b[0m\u001b[0;34m(\u001b[0m\u001b[0mmajor_locs\u001b[0m\u001b[0;34m)\u001b[0m\u001b[0;34m)\u001b[0m\u001b[0;34m\u001b[0m\u001b[0;34m\u001b[0m\u001b[0m\n",
            "\u001b[0;32m/usr/local/lib/python3.7/dist-packages/matplotlib/axis.py\u001b[0m in \u001b[0;36mget_majorticklocs\u001b[0;34m(self)\u001b[0m\n\u001b[1;32m   1346\u001b[0m     \u001b[0;32mdef\u001b[0m \u001b[0mget_majorticklocs\u001b[0m\u001b[0;34m(\u001b[0m\u001b[0mself\u001b[0m\u001b[0;34m)\u001b[0m\u001b[0;34m:\u001b[0m\u001b[0;34m\u001b[0m\u001b[0;34m\u001b[0m\u001b[0m\n\u001b[1;32m   1347\u001b[0m         \u001b[0;34m\"\"\"Get the array of major tick locations in data coordinates.\"\"\"\u001b[0m\u001b[0;34m\u001b[0m\u001b[0;34m\u001b[0m\u001b[0m\n\u001b[0;32m-> 1348\u001b[0;31m         \u001b[0;32mreturn\u001b[0m \u001b[0mself\u001b[0m\u001b[0;34m.\u001b[0m\u001b[0mmajor\u001b[0m\u001b[0;34m.\u001b[0m\u001b[0mlocator\u001b[0m\u001b[0;34m(\u001b[0m\u001b[0;34m)\u001b[0m\u001b[0;34m\u001b[0m\u001b[0;34m\u001b[0m\u001b[0m\n\u001b[0m\u001b[1;32m   1349\u001b[0m \u001b[0;34m\u001b[0m\u001b[0m\n\u001b[1;32m   1350\u001b[0m     \u001b[0;32mdef\u001b[0m \u001b[0mget_minorticklocs\u001b[0m\u001b[0;34m(\u001b[0m\u001b[0mself\u001b[0m\u001b[0;34m)\u001b[0m\u001b[0;34m:\u001b[0m\u001b[0;34m\u001b[0m\u001b[0;34m\u001b[0m\u001b[0m\n",
            "\u001b[0;32m/usr/local/lib/python3.7/dist-packages/matplotlib/dates.py\u001b[0m in \u001b[0;36m__call__\u001b[0;34m(self)\u001b[0m\n\u001b[1;32m   1336\u001b[0m     \u001b[0;32mdef\u001b[0m \u001b[0m__call__\u001b[0m\u001b[0;34m(\u001b[0m\u001b[0mself\u001b[0m\u001b[0;34m)\u001b[0m\u001b[0;34m:\u001b[0m\u001b[0;34m\u001b[0m\u001b[0;34m\u001b[0m\u001b[0m\n\u001b[1;32m   1337\u001b[0m         \u001b[0;34m'Return the locations of the ticks'\u001b[0m\u001b[0;34m\u001b[0m\u001b[0;34m\u001b[0m\u001b[0m\n\u001b[0;32m-> 1338\u001b[0;31m         \u001b[0mself\u001b[0m\u001b[0;34m.\u001b[0m\u001b[0mrefresh\u001b[0m\u001b[0;34m(\u001b[0m\u001b[0;34m)\u001b[0m\u001b[0;34m\u001b[0m\u001b[0;34m\u001b[0m\u001b[0m\n\u001b[0m\u001b[1;32m   1339\u001b[0m         \u001b[0;32mreturn\u001b[0m \u001b[0mself\u001b[0m\u001b[0;34m.\u001b[0m\u001b[0m_locator\u001b[0m\u001b[0;34m(\u001b[0m\u001b[0;34m)\u001b[0m\u001b[0;34m\u001b[0m\u001b[0;34m\u001b[0m\u001b[0m\n\u001b[1;32m   1340\u001b[0m \u001b[0;34m\u001b[0m\u001b[0m\n",
            "\u001b[0;32m/usr/local/lib/python3.7/dist-packages/matplotlib/dates.py\u001b[0m in \u001b[0;36mrefresh\u001b[0;34m(self)\u001b[0m\n\u001b[1;32m   1362\u001b[0m     \u001b[0;32mdef\u001b[0m \u001b[0mrefresh\u001b[0m\u001b[0;34m(\u001b[0m\u001b[0mself\u001b[0m\u001b[0;34m)\u001b[0m\u001b[0;34m:\u001b[0m\u001b[0;34m\u001b[0m\u001b[0;34m\u001b[0m\u001b[0m\n\u001b[1;32m   1363\u001b[0m         \u001b[0;31m# docstring inherited\u001b[0m\u001b[0;34m\u001b[0m\u001b[0;34m\u001b[0m\u001b[0;34m\u001b[0m\u001b[0m\n\u001b[0;32m-> 1364\u001b[0;31m         \u001b[0mdmin\u001b[0m\u001b[0;34m,\u001b[0m \u001b[0mdmax\u001b[0m \u001b[0;34m=\u001b[0m \u001b[0mself\u001b[0m\u001b[0;34m.\u001b[0m\u001b[0mviewlim_to_dt\u001b[0m\u001b[0;34m(\u001b[0m\u001b[0;34m)\u001b[0m\u001b[0;34m\u001b[0m\u001b[0;34m\u001b[0m\u001b[0m\n\u001b[0m\u001b[1;32m   1365\u001b[0m         \u001b[0mself\u001b[0m\u001b[0;34m.\u001b[0m\u001b[0m_locator\u001b[0m \u001b[0;34m=\u001b[0m \u001b[0mself\u001b[0m\u001b[0;34m.\u001b[0m\u001b[0mget_locator\u001b[0m\u001b[0;34m(\u001b[0m\u001b[0mdmin\u001b[0m\u001b[0;34m,\u001b[0m \u001b[0mdmax\u001b[0m\u001b[0;34m)\u001b[0m\u001b[0;34m\u001b[0m\u001b[0;34m\u001b[0m\u001b[0m\n\u001b[1;32m   1366\u001b[0m \u001b[0;34m\u001b[0m\u001b[0m\n",
            "\u001b[0;32m/usr/local/lib/python3.7/dist-packages/matplotlib/dates.py\u001b[0m in \u001b[0;36mviewlim_to_dt\u001b[0;34m(self)\u001b[0m\n\u001b[1;32m   1096\u001b[0m                              \u001b[0;34m'often happens if you pass a non-datetime '\u001b[0m\u001b[0;34m\u001b[0m\u001b[0;34m\u001b[0m\u001b[0m\n\u001b[1;32m   1097\u001b[0m                              \u001b[0;34m'value to an axis that has datetime units'\u001b[0m\u001b[0;34m\u001b[0m\u001b[0;34m\u001b[0m\u001b[0m\n\u001b[0;32m-> 1098\u001b[0;31m                              .format(vmin))\n\u001b[0m\u001b[1;32m   1099\u001b[0m         \u001b[0;32mreturn\u001b[0m \u001b[0mnum2date\u001b[0m\u001b[0;34m(\u001b[0m\u001b[0mvmin\u001b[0m\u001b[0;34m,\u001b[0m \u001b[0mself\u001b[0m\u001b[0;34m.\u001b[0m\u001b[0mtz\u001b[0m\u001b[0;34m)\u001b[0m\u001b[0;34m,\u001b[0m \u001b[0mnum2date\u001b[0m\u001b[0;34m(\u001b[0m\u001b[0mvmax\u001b[0m\u001b[0;34m,\u001b[0m \u001b[0mself\u001b[0m\u001b[0;34m.\u001b[0m\u001b[0mtz\u001b[0m\u001b[0;34m)\u001b[0m\u001b[0;34m\u001b[0m\u001b[0;34m\u001b[0m\u001b[0m\n\u001b[1;32m   1100\u001b[0m \u001b[0;34m\u001b[0m\u001b[0m\n",
            "\u001b[0;31mValueError\u001b[0m: view limit minimum 0.0 is less than 1 and is an invalid Matplotlib date value. This often happens if you pass a non-datetime value to an axis that has datetime units"
          ]
        }
      ]
    },
    {
      "cell_type": "markdown",
      "metadata": {
        "id": "A90QXa6B1M3Q"
      },
      "source": [
        "# Association Rules"
      ]
    },
    {
      "cell_type": "code",
      "metadata": {
        "colab": {
          "base_uri": "https://localhost:8080/",
          "height": 289
        },
        "id": "3psKnRL11Sj3",
        "outputId": "2f57bcd8-5706-4669-9f17-d24153122774"
      },
      "source": [
        "from mlxtend.frequent_patterns import apriori\r\n",
        "from mlxtend.frequent_patterns import association_rules\r\n",
        "\r\n",
        "# Transactions done in France \r\n",
        "basket_France = (df[df['Country'] ==\"France\"] \r\n",
        "          .groupby(['InvoiceNo', 'Description'])['Quantity'] \r\n",
        "          .sum().unstack().reset_index().fillna(0) \r\n",
        "          .set_index('InvoiceNo')) \r\n",
        "  \r\n",
        "# Transactions done in the United Kingdom \r\n",
        "basket_UK = (df[df['Country'] ==\"United Kingdom\"] \r\n",
        "          .groupby(['InvoiceNo', 'Description'])['Quantity'] \r\n",
        "          .sum().unstack().reset_index().fillna(0) \r\n",
        "          .set_index('InvoiceNo')) \r\n",
        "  \r\n",
        "# Transactions done in Portugal \r\n",
        "basket_Por = (df[df['Country'] ==\"Portugal\"] \r\n",
        "          .groupby(['InvoiceNo', 'Description'])['Quantity'] \r\n",
        "          .sum().unstack().reset_index().fillna(0) \r\n",
        "          .set_index('InvoiceNo')) \r\n",
        "  \r\n",
        "basket_Sweden = (df[df['Country'] ==\"Sweden\"] \r\n",
        "          .groupby(['InvoiceNo', 'Description'])['Quantity'] \r\n",
        "          .sum().unstack().reset_index().fillna(0) \r\n",
        "          .set_index('InvoiceNo')) \r\n",
        "\r\n",
        "def hot_encode(x): \r\n",
        "    if(x<= 0): \r\n",
        "        return 0\r\n",
        "    if(x>= 1): \r\n",
        "        return 1\r\n",
        "\r\n",
        "# Encoding the datasets \r\n",
        "basket_encoded = basket_France.applymap(hot_encode) \r\n",
        "basket_France = basket_encoded \r\n",
        "  \r\n",
        "basket_encoded = basket_UK.applymap(hot_encode) \r\n",
        "basket_UK = basket_encoded \r\n",
        "  \r\n",
        "basket_encoded = basket_Por.applymap(hot_encode) \r\n",
        "basket_Por = basket_encoded \r\n",
        "  \r\n",
        "basket_encoded = basket_Sweden.applymap(hot_encode) \r\n",
        "basket_Sweden = basket_encoded \r\n",
        "\r\n",
        "# Building the model \r\n",
        "frq_items = apriori(basket_France, min_support = 0.05, use_colnames = True) \r\n",
        "  \r\n",
        "# Collecting the inferred rules in a dataframe \r\n",
        "rules = association_rules(frq_items, metric =\"lift\", min_threshold = 1) \r\n",
        "rules = rules.sort_values(['confidence', 'lift'], ascending =[False, False]) \r\n",
        "rules.head()"
      ],
      "execution_count": 177,
      "outputs": [
        {
          "output_type": "execute_result",
          "data": {
            "text/html": [
              "<div>\n",
              "<style scoped>\n",
              "    .dataframe tbody tr th:only-of-type {\n",
              "        vertical-align: middle;\n",
              "    }\n",
              "\n",
              "    .dataframe tbody tr th {\n",
              "        vertical-align: top;\n",
              "    }\n",
              "\n",
              "    .dataframe thead th {\n",
              "        text-align: right;\n",
              "    }\n",
              "</style>\n",
              "<table border=\"1\" class=\"dataframe\">\n",
              "  <thead>\n",
              "    <tr style=\"text-align: right;\">\n",
              "      <th></th>\n",
              "      <th>antecedents</th>\n",
              "      <th>consequents</th>\n",
              "      <th>antecedent support</th>\n",
              "      <th>consequent support</th>\n",
              "      <th>support</th>\n",
              "      <th>confidence</th>\n",
              "      <th>lift</th>\n",
              "      <th>leverage</th>\n",
              "      <th>conviction</th>\n",
              "    </tr>\n",
              "  </thead>\n",
              "  <tbody>\n",
              "    <tr>\n",
              "      <th>25</th>\n",
              "      <td>(JUMBO BAG WOODLAND ANIMALS)</td>\n",
              "      <td>(POSTAGE)</td>\n",
              "      <td>0.065076</td>\n",
              "      <td>0.650759</td>\n",
              "      <td>0.065076</td>\n",
              "      <td>1.000000</td>\n",
              "      <td>1.536667</td>\n",
              "      <td>0.022727</td>\n",
              "      <td>inf</td>\n",
              "    </tr>\n",
              "    <tr>\n",
              "      <th>185</th>\n",
              "      <td>(SET/20 RED RETROSPOT PAPER NAPKINS, SET/6 RED...</td>\n",
              "      <td>(SET/6 RED SPOTTY PAPER PLATES)</td>\n",
              "      <td>0.086768</td>\n",
              "      <td>0.108460</td>\n",
              "      <td>0.084599</td>\n",
              "      <td>0.975000</td>\n",
              "      <td>8.989500</td>\n",
              "      <td>0.075188</td>\n",
              "      <td>35.661605</td>\n",
              "    </tr>\n",
              "    <tr>\n",
              "      <th>184</th>\n",
              "      <td>(SET/20 RED RETROSPOT PAPER NAPKINS, SET/6 RED...</td>\n",
              "      <td>(SET/6 RED SPOTTY PAPER CUPS)</td>\n",
              "      <td>0.086768</td>\n",
              "      <td>0.117137</td>\n",
              "      <td>0.084599</td>\n",
              "      <td>0.975000</td>\n",
              "      <td>8.323611</td>\n",
              "      <td>0.074435</td>\n",
              "      <td>35.314534</td>\n",
              "    </tr>\n",
              "    <tr>\n",
              "      <th>192</th>\n",
              "      <td>(SET/20 RED RETROSPOT PAPER NAPKINS, SET/6 RED...</td>\n",
              "      <td>(SET/6 RED SPOTTY PAPER PLATES)</td>\n",
              "      <td>0.071584</td>\n",
              "      <td>0.108460</td>\n",
              "      <td>0.069414</td>\n",
              "      <td>0.969697</td>\n",
              "      <td>8.940606</td>\n",
              "      <td>0.061650</td>\n",
              "      <td>29.420824</td>\n",
              "    </tr>\n",
              "    <tr>\n",
              "      <th>191</th>\n",
              "      <td>(SET/20 RED RETROSPOT PAPER NAPKINS, SET/6 RED...</td>\n",
              "      <td>(SET/6 RED SPOTTY PAPER CUPS)</td>\n",
              "      <td>0.071584</td>\n",
              "      <td>0.117137</td>\n",
              "      <td>0.069414</td>\n",
              "      <td>0.969697</td>\n",
              "      <td>8.278339</td>\n",
              "      <td>0.061029</td>\n",
              "      <td>29.134490</td>\n",
              "    </tr>\n",
              "  </tbody>\n",
              "</table>\n",
              "</div>"
            ],
            "text/plain": [
              "                                           antecedents  ... conviction\n",
              "25                        (JUMBO BAG WOODLAND ANIMALS)  ...        inf\n",
              "185  (SET/20 RED RETROSPOT PAPER NAPKINS, SET/6 RED...  ...  35.661605\n",
              "184  (SET/20 RED RETROSPOT PAPER NAPKINS, SET/6 RED...  ...  35.314534\n",
              "192  (SET/20 RED RETROSPOT PAPER NAPKINS, SET/6 RED...  ...  29.420824\n",
              "191  (SET/20 RED RETROSPOT PAPER NAPKINS, SET/6 RED...  ...  29.134490\n",
              "\n",
              "[5 rows x 9 columns]"
            ]
          },
          "metadata": {
            "tags": []
          },
          "execution_count": 177
        }
      ]
    },
    {
      "cell_type": "markdown",
      "metadata": {
        "id": "zVIHZStNycax"
      },
      "source": [
        "# Clustering"
      ]
    },
    {
      "cell_type": "markdown",
      "metadata": {
        "id": "aLyjUaooU9U2"
      },
      "source": [
        "## Prepare data"
      ]
    },
    {
      "cell_type": "code",
      "metadata": {
        "colab": {
          "base_uri": "https://localhost:8080/",
          "height": 204
        },
        "id": "yRJX4fndybyo",
        "outputId": "03d73255-a5d7-4404-8ee9-b327d62092ec"
      },
      "source": [
        "from sklearn.preprocessing import StandardScaler\r\n",
        "# Rescaling the attributes\r\n",
        "\r\n",
        "rfm_df = rfm[['Sales', 'Frequency', 'Recency']]\r\n",
        "\r\n",
        "# Instantiate\r\n",
        "scaler = StandardScaler()\r\n",
        "\r\n",
        "# fit_transform\r\n",
        "rfm_df_scaled = scaler.fit_transform(rfm_df)\r\n",
        "rfm_df_scaled.shape\r\n",
        "rfm_df_scaled = pd.DataFrame(rfm_df_scaled)\r\n",
        "rfm_df_scaled.columns = ['Sales', 'Frequency', 'Recency']\r\n",
        "rfm_df_scaled.head()"
      ],
      "execution_count": 178,
      "outputs": [
        {
          "output_type": "execute_result",
          "data": {
            "text/html": [
              "<div>\n",
              "<style scoped>\n",
              "    .dataframe tbody tr th:only-of-type {\n",
              "        vertical-align: middle;\n",
              "    }\n",
              "\n",
              "    .dataframe tbody tr th {\n",
              "        vertical-align: top;\n",
              "    }\n",
              "\n",
              "    .dataframe thead th {\n",
              "        text-align: right;\n",
              "    }\n",
              "</style>\n",
              "<table border=\"1\" class=\"dataframe\">\n",
              "  <thead>\n",
              "    <tr style=\"text-align: right;\">\n",
              "      <th></th>\n",
              "      <th>Sales</th>\n",
              "      <th>Frequency</th>\n",
              "      <th>Recency</th>\n",
              "    </tr>\n",
              "  </thead>\n",
              "  <tbody>\n",
              "    <tr>\n",
              "      <th>0</th>\n",
              "      <td>-0.723738</td>\n",
              "      <td>-0.752888</td>\n",
              "      <td>2.301611</td>\n",
              "    </tr>\n",
              "    <tr>\n",
              "      <th>1</th>\n",
              "      <td>1.731617</td>\n",
              "      <td>1.042467</td>\n",
              "      <td>-0.906466</td>\n",
              "    </tr>\n",
              "    <tr>\n",
              "      <th>2</th>\n",
              "      <td>0.300128</td>\n",
              "      <td>-0.463636</td>\n",
              "      <td>-0.183658</td>\n",
              "    </tr>\n",
              "    <tr>\n",
              "      <th>3</th>\n",
              "      <td>0.277517</td>\n",
              "      <td>-0.044720</td>\n",
              "      <td>-0.738141</td>\n",
              "    </tr>\n",
              "    <tr>\n",
              "      <th>4</th>\n",
              "      <td>-0.533235</td>\n",
              "      <td>-0.603275</td>\n",
              "      <td>2.143188</td>\n",
              "    </tr>\n",
              "  </tbody>\n",
              "</table>\n",
              "</div>"
            ],
            "text/plain": [
              "      Sales  Frequency   Recency\n",
              "0 -0.723738  -0.752888  2.301611\n",
              "1  1.731617   1.042467 -0.906466\n",
              "2  0.300128  -0.463636 -0.183658\n",
              "3  0.277517  -0.044720 -0.738141\n",
              "4 -0.533235  -0.603275  2.143188"
            ]
          },
          "metadata": {
            "tags": []
          },
          "execution_count": 178
        }
      ]
    },
    {
      "cell_type": "markdown",
      "metadata": {
        "id": "xf7CO9CTVToF"
      },
      "source": [
        "## K-Means"
      ]
    },
    {
      "cell_type": "code",
      "metadata": {
        "colab": {
          "base_uri": "https://localhost:8080/"
        },
        "id": "7UntODsxVaaJ",
        "outputId": "6aea9e51-7dc6-45ec-fcb0-4daa76a94a79"
      },
      "source": [
        "from sklearn.cluster import KMeans\r\n",
        "from sklearn.metrics import silhouette_score\r\n",
        "\r\n",
        "# Finding the Optimal Number of Clusters\r\n",
        "# Elbow-curve/SSD\r\n",
        "\r\n",
        "ssd = []\r\n",
        "range_n_clusters = [2, 3, 4, 5, 6, 7, 8, 9, 10, 11, 12]\r\n",
        "for num_clusters in range_n_clusters:\r\n",
        "    kmeans = KMeans(n_clusters=num_clusters, max_iter=1000)\r\n",
        "    kmeans.fit(rfm_df_scaled)\r\n",
        "    \r\n",
        "    ssd.append(kmeans.inertia_)\r\n",
        "    \r\n",
        "# plot the SSDs for each n_clusters\r\n",
        "plt.plot(ssd)"
      ],
      "execution_count": 194,
      "outputs": [
        {
          "output_type": "execute_result",
          "data": {
            "text/plain": [
              "[<matplotlib.lines.Line2D at 0x7fe270510850>]"
            ]
          },
          "metadata": {
            "tags": []
          },
          "execution_count": 194
        }
      ]
    },
    {
      "cell_type": "code",
      "metadata": {
        "id": "3qMqWyNgVwA6",
        "colab": {
          "base_uri": "https://localhost:8080/"
        },
        "outputId": "05a4b165-ab18-426f-8fc3-52f53e1991e8"
      },
      "source": [
        "from sklearn.metrics import silhouette_score\r\n",
        "# Silhouette analysis\r\n",
        "range_n_clusters = [2, 3, 4, 5, 6, 7, 8]\r\n",
        "\r\n",
        "for num_clusters in range_n_clusters:\r\n",
        "    \r\n",
        "    # intialise kmeans\r\n",
        "    kmeans = KMeans(n_clusters=num_clusters, max_iter=1000)\r\n",
        "    kmeans.fit(rfm_df_scaled)\r\n",
        "    \r\n",
        "    cluster_labels = kmeans.labels_\r\n",
        "    \r\n",
        "    # silhouette score\r\n",
        "    silhouette_avg = silhouette_score(rfm_df_scaled, cluster_labels)\r\n",
        "    print(\"For n_clusters={0}, the silhouette score is {1}\".format(num_clusters, silhouette_avg))"
      ],
      "execution_count": 180,
      "outputs": [
        {
          "output_type": "stream",
          "text": [
            "For n_clusters=2, the silhouette score is 0.5415858652525395\n",
            "For n_clusters=3, the silhouette score is 0.5084896296141937\n",
            "For n_clusters=4, the silhouette score is 0.47782241003860476\n",
            "For n_clusters=5, the silhouette score is 0.46458018311256893\n",
            "For n_clusters=6, the silhouette score is 0.41758431193450735\n",
            "For n_clusters=7, the silhouette score is 0.41736609082715437\n",
            "For n_clusters=8, the silhouette score is 0.4076109798219592\n"
          ],
          "name": "stdout"
        }
      ]
    },
    {
      "cell_type": "code",
      "metadata": {
        "id": "LDy_iMe8V4_3",
        "colab": {
          "base_uri": "https://localhost:8080/"
        },
        "outputId": "a030a5e8-1509-43c3-a6e3-2cd1a4cba940"
      },
      "source": [
        "# Final model with k=3\r\n",
        "kmeans = KMeans(n_clusters=5, max_iter=1000)\r\n",
        "kmeans.fit(rfm_df_scaled)"
      ],
      "execution_count": 181,
      "outputs": [
        {
          "output_type": "execute_result",
          "data": {
            "text/plain": [
              "KMeans(algorithm='auto', copy_x=True, init='k-means++', max_iter=1000,\n",
              "       n_clusters=5, n_init=10, n_jobs=None, precompute_distances='auto',\n",
              "       random_state=None, tol=0.0001, verbose=0)"
            ]
          },
          "metadata": {
            "tags": []
          },
          "execution_count": 181
        }
      ]
    },
    {
      "cell_type": "code",
      "metadata": {
        "id": "mVkpyzaUV6le",
        "colab": {
          "base_uri": "https://localhost:8080/"
        },
        "outputId": "a766785e-2185-4814-b035-2e83bd43e469"
      },
      "source": [
        "kmeans.labels_"
      ],
      "execution_count": 182,
      "outputs": [
        {
          "output_type": "execute_result",
          "data": {
            "text/plain": [
              "array([4, 0, 1, ..., 4, 1, 1], dtype=int32)"
            ]
          },
          "metadata": {
            "tags": []
          },
          "execution_count": 182
        }
      ]
    },
    {
      "cell_type": "code",
      "metadata": {
        "id": "C2lTtOquV_O9",
        "colab": {
          "base_uri": "https://localhost:8080/",
          "height": 204
        },
        "outputId": "f436add6-ed60-47ee-e99c-078709004c1a"
      },
      "source": [
        "# assign the label\r\n",
        "rfm['Cluster_Id'] = kmeans.labels_\r\n",
        "rfm.head()"
      ],
      "execution_count": 183,
      "outputs": [
        {
          "output_type": "execute_result",
          "data": {
            "text/html": [
              "<div>\n",
              "<style scoped>\n",
              "    .dataframe tbody tr th:only-of-type {\n",
              "        vertical-align: middle;\n",
              "    }\n",
              "\n",
              "    .dataframe tbody tr th {\n",
              "        vertical-align: top;\n",
              "    }\n",
              "\n",
              "    .dataframe thead th {\n",
              "        text-align: right;\n",
              "    }\n",
              "</style>\n",
              "<table border=\"1\" class=\"dataframe\">\n",
              "  <thead>\n",
              "    <tr style=\"text-align: right;\">\n",
              "      <th></th>\n",
              "      <th>CustomerID</th>\n",
              "      <th>Sales</th>\n",
              "      <th>Frequency</th>\n",
              "      <th>Recency</th>\n",
              "      <th>Cluster_Id</th>\n",
              "    </tr>\n",
              "  </thead>\n",
              "  <tbody>\n",
              "    <tr>\n",
              "      <th>0</th>\n",
              "      <td>12346.0</td>\n",
              "      <td>0.00</td>\n",
              "      <td>2</td>\n",
              "      <td>325</td>\n",
              "      <td>4</td>\n",
              "    </tr>\n",
              "    <tr>\n",
              "      <th>1</th>\n",
              "      <td>12347.0</td>\n",
              "      <td>4310.00</td>\n",
              "      <td>182</td>\n",
              "      <td>1</td>\n",
              "      <td>0</td>\n",
              "    </tr>\n",
              "    <tr>\n",
              "      <th>2</th>\n",
              "      <td>12348.0</td>\n",
              "      <td>1797.24</td>\n",
              "      <td>31</td>\n",
              "      <td>74</td>\n",
              "      <td>1</td>\n",
              "    </tr>\n",
              "    <tr>\n",
              "      <th>3</th>\n",
              "      <td>12349.0</td>\n",
              "      <td>1757.55</td>\n",
              "      <td>73</td>\n",
              "      <td>18</td>\n",
              "      <td>0</td>\n",
              "    </tr>\n",
              "    <tr>\n",
              "      <th>4</th>\n",
              "      <td>12350.0</td>\n",
              "      <td>334.40</td>\n",
              "      <td>17</td>\n",
              "      <td>309</td>\n",
              "      <td>4</td>\n",
              "    </tr>\n",
              "  </tbody>\n",
              "</table>\n",
              "</div>"
            ],
            "text/plain": [
              "   CustomerID    Sales  Frequency  Recency  Cluster_Id\n",
              "0     12346.0     0.00          2      325           4\n",
              "1     12347.0  4310.00        182        1           0\n",
              "2     12348.0  1797.24         31       74           1\n",
              "3     12349.0  1757.55         73       18           0\n",
              "4     12350.0   334.40         17      309           4"
            ]
          },
          "metadata": {
            "tags": []
          },
          "execution_count": 183
        }
      ]
    },
    {
      "cell_type": "code",
      "metadata": {
        "id": "YYNw-MUKWDCe",
        "colab": {
          "base_uri": "https://localhost:8080/"
        },
        "outputId": "31938bb5-12a9-407c-b512-44b29b8bdfb3"
      },
      "source": [
        "# Box plot to visualize Cluster Id vs Frequency\r\n",
        "\r\n",
        "sns.boxplot(x='Cluster_Id', y='Sales', data=rfm)"
      ],
      "execution_count": 184,
      "outputs": [
        {
          "output_type": "execute_result",
          "data": {
            "text/plain": [
              "<matplotlib.axes._subplots.AxesSubplot at 0x7fe27585d550>"
            ]
          },
          "metadata": {
            "tags": []
          },
          "execution_count": 184
        }
      ]
    },
    {
      "cell_type": "code",
      "metadata": {
        "id": "GGXiSdRrWE1c",
        "colab": {
          "base_uri": "https://localhost:8080/"
        },
        "outputId": "b18af692-e863-45a8-bf36-c68bf1e19859"
      },
      "source": [
        "# Box plot to visualize Cluster Id vs Frequency\r\n",
        "\r\n",
        "sns.boxplot(x='Cluster_Id', y='Frequency', data=rfm)"
      ],
      "execution_count": 185,
      "outputs": [
        {
          "output_type": "execute_result",
          "data": {
            "text/plain": [
              "<matplotlib.axes._subplots.AxesSubplot at 0x7fe27585d550>"
            ]
          },
          "metadata": {
            "tags": []
          },
          "execution_count": 185
        }
      ]
    },
    {
      "cell_type": "code",
      "metadata": {
        "id": "a7OE_wHymww1",
        "colab": {
          "base_uri": "https://localhost:8080/"
        },
        "outputId": "e27100eb-a379-41b2-cb3a-86342865e849"
      },
      "source": [
        "# Box plot to visualize Cluster Id vs Recency\r\n",
        "\r\n",
        "sns.boxplot(x='Cluster_Id', y='Recency', data=rfm)"
      ],
      "execution_count": 186,
      "outputs": [
        {
          "output_type": "execute_result",
          "data": {
            "text/plain": [
              "<matplotlib.axes._subplots.AxesSubplot at 0x7fe27585d550>"
            ]
          },
          "metadata": {
            "tags": []
          },
          "execution_count": 186
        }
      ]
    },
    {
      "cell_type": "code",
      "metadata": {
        "id": "db8wTVGT1eNM",
        "colab": {
          "base_uri": "https://localhost:8080/",
          "height": 235
        },
        "outputId": "eeba9f28-241c-45e7-8ba3-99b7f96fc8c8"
      },
      "source": [
        "rfm.groupby('Cluster_Id').mean()"
      ],
      "execution_count": 187,
      "outputs": [
        {
          "output_type": "execute_result",
          "data": {
            "text/html": [
              "<div>\n",
              "<style scoped>\n",
              "    .dataframe tbody tr th:only-of-type {\n",
              "        vertical-align: middle;\n",
              "    }\n",
              "\n",
              "    .dataframe tbody tr th {\n",
              "        vertical-align: top;\n",
              "    }\n",
              "\n",
              "    .dataframe thead th {\n",
              "        text-align: right;\n",
              "    }\n",
              "</style>\n",
              "<table border=\"1\" class=\"dataframe\">\n",
              "  <thead>\n",
              "    <tr style=\"text-align: right;\">\n",
              "      <th></th>\n",
              "      <th>CustomerID</th>\n",
              "      <th>Sales</th>\n",
              "      <th>Frequency</th>\n",
              "      <th>Recency</th>\n",
              "    </tr>\n",
              "    <tr>\n",
              "      <th>Cluster_Id</th>\n",
              "      <th></th>\n",
              "      <th></th>\n",
              "      <th></th>\n",
              "      <th></th>\n",
              "    </tr>\n",
              "  </thead>\n",
              "  <tbody>\n",
              "    <tr>\n",
              "      <th>0</th>\n",
              "      <td>15204.468215</td>\n",
              "      <td>2438.865026</td>\n",
              "      <td>141.689487</td>\n",
              "      <td>30.392421</td>\n",
              "    </tr>\n",
              "    <tr>\n",
              "      <th>1</th>\n",
              "      <td>15310.669776</td>\n",
              "      <td>624.930095</td>\n",
              "      <td>38.841884</td>\n",
              "      <td>50.235541</td>\n",
              "    </tr>\n",
              "    <tr>\n",
              "      <th>2</th>\n",
              "      <td>15485.510000</td>\n",
              "      <td>3801.257000</td>\n",
              "      <td>379.630000</td>\n",
              "      <td>19.325000</td>\n",
              "    </tr>\n",
              "    <tr>\n",
              "      <th>3</th>\n",
              "      <td>14803.452830</td>\n",
              "      <td>9056.373019</td>\n",
              "      <td>295.160377</td>\n",
              "      <td>19.113208</td>\n",
              "    </tr>\n",
              "    <tr>\n",
              "      <th>4</th>\n",
              "      <td>15368.658537</td>\n",
              "      <td>389.080741</td>\n",
              "      <td>25.604878</td>\n",
              "      <td>252.540488</td>\n",
              "    </tr>\n",
              "  </tbody>\n",
              "</table>\n",
              "</div>"
            ],
            "text/plain": [
              "              CustomerID        Sales   Frequency     Recency\n",
              "Cluster_Id                                                   \n",
              "0           15204.468215  2438.865026  141.689487   30.392421\n",
              "1           15310.669776   624.930095   38.841884   50.235541\n",
              "2           15485.510000  3801.257000  379.630000   19.325000\n",
              "3           14803.452830  9056.373019  295.160377   19.113208\n",
              "4           15368.658537   389.080741   25.604878  252.540488"
            ]
          },
          "metadata": {
            "tags": []
          },
          "execution_count": 187
        }
      ]
    },
    {
      "cell_type": "markdown",
      "metadata": {
        "id": "hucbkh8PWVtG"
      },
      "source": [
        "## Hierarchical Clustering"
      ]
    },
    {
      "cell_type": "code",
      "metadata": {
        "id": "j6E5ZpjU9VQP"
      },
      "source": [
        "from scipy.cluster.hierarchy import linkage\r\n",
        "from scipy.cluster.hierarchy import dendrogram\r\n",
        "from scipy.cluster.hierarchy import cut_tree\r\n",
        "\r\n",
        "mergings = linkage(rfm_df_scaled, method=\"average\", metric='euclidean')\r\n",
        "dendrogram(mergings)\r\n",
        "plt.show()"
      ],
      "execution_count": 188,
      "outputs": []
    },
    {
      "cell_type": "code",
      "metadata": {
        "id": "PXmghcUK9fLT",
        "colab": {
          "base_uri": "https://localhost:8080/"
        },
        "outputId": "7cdde344-1ab7-49ee-8b66-1df20ec960ba"
      },
      "source": [
        "# 4 clusters\r\n",
        "cluster_labels = cut_tree(mergings, n_clusters=4).reshape(-1, )\r\n",
        "cluster_labels"
      ],
      "execution_count": 189,
      "outputs": [
        {
          "output_type": "execute_result",
          "data": {
            "text/plain": [
              "array([0, 0, 0, ..., 0, 0, 0])"
            ]
          },
          "metadata": {
            "tags": []
          },
          "execution_count": 189
        }
      ]
    },
    {
      "cell_type": "code",
      "metadata": {
        "id": "3af7f6MU9u1s",
        "colab": {
          "base_uri": "https://localhost:8080/",
          "height": 204
        },
        "outputId": "4050de08-5ec3-49bd-cfc6-2e6872ff43d8"
      },
      "source": [
        "# Assign cluster labels\r\n",
        "\r\n",
        "rfm['Cluster_Id_Hierarchy'] = cluster_labels\r\n",
        "rfm.head()"
      ],
      "execution_count": 190,
      "outputs": [
        {
          "output_type": "execute_result",
          "data": {
            "text/html": [
              "<div>\n",
              "<style scoped>\n",
              "    .dataframe tbody tr th:only-of-type {\n",
              "        vertical-align: middle;\n",
              "    }\n",
              "\n",
              "    .dataframe tbody tr th {\n",
              "        vertical-align: top;\n",
              "    }\n",
              "\n",
              "    .dataframe thead th {\n",
              "        text-align: right;\n",
              "    }\n",
              "</style>\n",
              "<table border=\"1\" class=\"dataframe\">\n",
              "  <thead>\n",
              "    <tr style=\"text-align: right;\">\n",
              "      <th></th>\n",
              "      <th>CustomerID</th>\n",
              "      <th>Sales</th>\n",
              "      <th>Frequency</th>\n",
              "      <th>Recency</th>\n",
              "      <th>Cluster_Id</th>\n",
              "      <th>Cluster_Id_Hierarchy</th>\n",
              "    </tr>\n",
              "  </thead>\n",
              "  <tbody>\n",
              "    <tr>\n",
              "      <th>0</th>\n",
              "      <td>12346.0</td>\n",
              "      <td>0.00</td>\n",
              "      <td>2</td>\n",
              "      <td>325</td>\n",
              "      <td>4</td>\n",
              "      <td>0</td>\n",
              "    </tr>\n",
              "    <tr>\n",
              "      <th>1</th>\n",
              "      <td>12347.0</td>\n",
              "      <td>4310.00</td>\n",
              "      <td>182</td>\n",
              "      <td>1</td>\n",
              "      <td>0</td>\n",
              "      <td>0</td>\n",
              "    </tr>\n",
              "    <tr>\n",
              "      <th>2</th>\n",
              "      <td>12348.0</td>\n",
              "      <td>1797.24</td>\n",
              "      <td>31</td>\n",
              "      <td>74</td>\n",
              "      <td>1</td>\n",
              "      <td>0</td>\n",
              "    </tr>\n",
              "    <tr>\n",
              "      <th>3</th>\n",
              "      <td>12349.0</td>\n",
              "      <td>1757.55</td>\n",
              "      <td>73</td>\n",
              "      <td>18</td>\n",
              "      <td>0</td>\n",
              "      <td>0</td>\n",
              "    </tr>\n",
              "    <tr>\n",
              "      <th>4</th>\n",
              "      <td>12350.0</td>\n",
              "      <td>334.40</td>\n",
              "      <td>17</td>\n",
              "      <td>309</td>\n",
              "      <td>4</td>\n",
              "      <td>0</td>\n",
              "    </tr>\n",
              "  </tbody>\n",
              "</table>\n",
              "</div>"
            ],
            "text/plain": [
              "   CustomerID    Sales  Frequency  Recency  Cluster_Id  Cluster_Id_Hierarchy\n",
              "0     12346.0     0.00          2      325           4                     0\n",
              "1     12347.0  4310.00        182        1           0                     0\n",
              "2     12348.0  1797.24         31       74           1                     0\n",
              "3     12349.0  1757.55         73       18           0                     0\n",
              "4     12350.0   334.40         17      309           4                     0"
            ]
          },
          "metadata": {
            "tags": []
          },
          "execution_count": 190
        }
      ]
    },
    {
      "cell_type": "code",
      "metadata": {
        "id": "13G8yPmp-Ftc",
        "colab": {
          "base_uri": "https://localhost:8080/"
        },
        "outputId": "a107633a-f978-44f8-d7b8-7332ad91544e"
      },
      "source": [
        "# Plot Cluster Id vs Sales\r\n",
        "\r\n",
        "sns.boxplot(x='Cluster_Id_Hierarchy', y='Sales', data=rfm)"
      ],
      "execution_count": 191,
      "outputs": [
        {
          "output_type": "execute_result",
          "data": {
            "text/plain": [
              "<matplotlib.axes._subplots.AxesSubplot at 0x7fe27585d550>"
            ]
          },
          "metadata": {
            "tags": []
          },
          "execution_count": 191
        }
      ]
    },
    {
      "cell_type": "code",
      "metadata": {
        "id": "zZhnmCo7-Rqq",
        "colab": {
          "base_uri": "https://localhost:8080/"
        },
        "outputId": "3152679e-67ca-4a88-c63f-8858c2790ddd"
      },
      "source": [
        "# Plot Cluster Id vs Frequency\r\n",
        "\r\n",
        "sns.boxplot(x='Cluster_Id_Hierarchy', y='Frequency', data=rfm)"
      ],
      "execution_count": 192,
      "outputs": [
        {
          "output_type": "execute_result",
          "data": {
            "text/plain": [
              "<matplotlib.axes._subplots.AxesSubplot at 0x7fe27585d550>"
            ]
          },
          "metadata": {
            "tags": []
          },
          "execution_count": 192
        }
      ]
    },
    {
      "cell_type": "code",
      "metadata": {
        "id": "WTvZrHp2-VIO",
        "colab": {
          "base_uri": "https://localhost:8080/"
        },
        "outputId": "9461fabc-abfa-4da2-f218-eb5208600fe7"
      },
      "source": [
        "# Plot Cluster Id vs Recency\r\n",
        "\r\n",
        "sns.boxplot(x='Cluster_Id_Hierarchy', y='Recency', data=rfm)"
      ],
      "execution_count": 193,
      "outputs": [
        {
          "output_type": "execute_result",
          "data": {
            "text/plain": [
              "<matplotlib.axes._subplots.AxesSubplot at 0x7fe27585d550>"
            ]
          },
          "metadata": {
            "tags": []
          },
          "execution_count": 193
        }
      ]
    }
  ]
}