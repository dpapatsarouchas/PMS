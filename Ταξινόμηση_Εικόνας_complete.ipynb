{
  "nbformat": 4,
  "nbformat_minor": 0,
  "metadata": {
    "accelerator": "GPU",
    "colab": {
      "name": "Ταξινόμηση Εικόνας.ipynb",
      "provenance": [],
      "private_outputs": true,
      "collapsed_sections": [],
      "toc_visible": true
    },
    "kernelspec": {
      "display_name": "Python 3",
      "name": "python3"
    }
  },
  "cells": [
    {
      "cell_type": "markdown",
      "metadata": {
        "colab_type": "text",
        "id": "TBFXQGKYUc4X"
      },
      "source": [
        "##### Copyright 2018 The TensorFlow Authors."
      ]
    },
    {
      "cell_type": "code",
      "metadata": {
        "cellView": "form",
        "colab_type": "code",
        "id": "1z4xy2gTUc4a",
        "colab": {}
      },
      "source": [
        "#@title Licensed under the Apache License, Version 2.0 (the \"License\");\n",
        "# you may not use this file except in compliance with the License.\n",
        "# You may obtain a copy of the License at\n",
        "#\n",
        "# https://www.apache.org/licenses/LICENSE-2.0\n",
        "#\n",
        "# Unless required by applicable law or agreed to in writing, software\n",
        "# distributed under the License is distributed on an \"AS IS\" BASIS,\n",
        "# WITHOUT WARRANTIES OR CONDITIONS OF ANY KIND, either express or implied.\n",
        "# See the License for the specific language governing permissions and\n",
        "# limitations under the License."
      ],
      "execution_count": 0,
      "outputs": []
    },
    {
      "cell_type": "markdown",
      "metadata": {
        "colab_type": "text",
        "id": "FE7KNzPPVrVV"
      },
      "source": [
        "# Ταξινόμηση Εικόνας με Συνελικτικά Δίκτυα (TF)"
      ]
    },
    {
      "cell_type": "markdown",
      "metadata": {
        "colab_type": "text",
        "id": "KwQtSOz0VrVX"
      },
      "source": [
        "<table class=\"tfo-notebook-buttons\" align=\"left\">\n",
        "\n",
        "  <td>\n",
        "    <a target=\"_blank\" href=\"https://colab.research.google.com/github/tensorflow/docs/blob/master/site/en/tutorials/images/classification.ipynb\"><img src=\"https://www.tensorflow.org/images/colab_logo_32px.png\" />Run in Google Colab</a>\n",
        "  </td>\n",
        "\n",
        "</table>"
      ]
    },
    {
      "cell_type": "markdown",
      "metadata": {
        "colab_type": "text",
        "id": "gN7G9GFmVrVY"
      },
      "source": [
        "Αυτός ο οδηγός δείχνει πώς να ταξινομήσουμε γάτες ή σκύλους από αντίστοιχες εικόνες. Δημιουργεί έναν ταξινομητή εικόνας χρησιμοποιώντας ένα σειριακό  μοντέλο (`tf.keras.Sequential`) και φορτώνει τα δεδομένα χρησιμοποιώντας τη κλάση: `tf.keras.preprocessing.image.ImageDataGenerator`. Θα αποκτήσετε πρακτική εμπειρία για τις ακόλουθες έννοιες:\n",
        "\n",
        "* Δημιουργία ροής εισαγωγής δεδομένων (data pipeline) χρησιμοποιώντας  για εκμάθηση αποθηκευμένα δεδομένα (με τη κλάση: `tf.keras.preprocessing.image.ImageDataGenerator`).\n",
        "* Overfitting - Πώς να το αναγνωρίσετε και να το αποτρέψετε.\n",
        "* Data augmentation και dropout.\n",
        "\n",
        "\n",
        "O οδηγός ακολουθεί μια κλασσική σειρά εργασιών μηχανικής μάθησης:\n",
        "\n",
        "1. Εξέταση και κατανόηση των δεδομένων\n",
        "2. Ροή εισαγωγής δεδομένων\n",
        "3. Κατασκευή μοντέλου\n",
        "4. Εκπαίδευση μοντέλου\n",
        "5. Δοκιμή μοντέλου\n",
        "6. Βελτίωση μοντέλου και επανάληψη της διαδικασίας\n"
      ]
    },
    {
      "cell_type": "markdown",
      "metadata": {
        "colab_type": "text",
        "id": "zF9uvbXNVrVY"
      },
      "source": [
        "## Εισαγωγή πακέτων\n",
        "\n"
      ]
    },
    {
      "cell_type": "markdown",
      "metadata": {
        "colab_type": "text",
        "id": "VddxeYBEVrVZ"
      },
      "source": [
        "Ας ξεκινήσουμε εισάγοντας τα απαιτούμενα πακέτα. Το πακέτο`os`  χρησιμοποιείται για την ανάγνωση αρχείων και τη δομή του καταλόγου, το `NumPy`  για τη μετατροπή της  python λίστας σε numpy array και για την εκτέλεση πράξεων με πίνακες και το `matplotlib.pyplot` στα γραφήματα και στην εμφάνιση των εικόνων."
      ]
    },
    {
      "cell_type": "markdown",
      "metadata": {
        "colab_type": "text",
        "id": "Jlchl4x2VrVg"
      },
      "source": [
        "Εισαγωγή κλάσεων Tensorflow και Keras."
      ]
    },
    {
      "cell_type": "code",
      "metadata": {
        "colab_type": "code",
        "id": "nmMfiSBcXZST",
        "colab": {}
      },
      "source": [
        "import tensorflow as tf"
      ],
      "execution_count": 0,
      "outputs": []
    },
    {
      "cell_type": "code",
      "metadata": {
        "colab_type": "code",
        "id": "L1WtoaOHVrVh",
        "colab": {}
      },
      "source": [
        "from tensorflow.keras.models import Sequential\n",
        "from tensorflow.keras.layers import Dense, Conv2D, Flatten, Dropout, MaxPooling2D\n",
        "from tensorflow.keras.preprocessing.image import ImageDataGenerator\n",
        "\n",
        "import os\n",
        "import numpy as np\n",
        "import matplotlib.pyplot as plt"
      ],
      "execution_count": 0,
      "outputs": []
    },
    {
      "cell_type": "markdown",
      "metadata": {
        "colab_type": "text",
        "id": "UZZI6lNkVrVm"
      },
      "source": [
        "## Φόρτωση δεδομένων"
      ]
    },
    {
      "cell_type": "markdown",
      "metadata": {
        "colab_type": "text",
        "id": "DPHx8-t-VrVo"
      },
      "source": [
        "\n",
        "Ξεκινάμε κατεβάζοντας τα δεδομένα. Εδώ χρησιμοποιούμε μια φιλτραρισμένη έκδοση των δεδομένων <a href=\"https://www.kaggle.com/c/dogs-vs-cats/data\" target=\"_blank\">Dogs vs Cats</a>  από το Kaggle. Κατεβάζουμε τα αρχεία και τα αποθηκεύουμε στον κατάλογο \"/ tmp /\".\n"
      ]
    },
    {
      "cell_type": "code",
      "metadata": {
        "colab_type": "code",
        "id": "C1nqr-CYY6uw",
        "colab": {}
      },
      "source": [
        "_URL = 'https://storage.googleapis.com/mledu-datasets/cats_and_dogs_filtered.zip'\n",
        "\n",
        "path_to_zip = tf.keras.utils.get_file('cats_and_dogs.zip', origin=_URL, extract=True)\n",
        "\n",
        "PATH = os.path.join(os.path.dirname(path_to_zip), 'cats_and_dogs_filtered')"
      ],
      "execution_count": 0,
      "outputs": []
    },
    {
      "cell_type": "markdown",
      "metadata": {
        "colab_type": "text",
        "id": "Giv0wMQzVrVw"
      },
      "source": [
        "Τα δεδομένα έχουν την ακόλουθη δομή:\n",
        "\n",
        "<pre>\n",
        "<b>cats_and_dogs_filtered</b>\n",
        "|__ <b>train</b>\n",
        "    |______ <b>cats</b>: [cat.0.jpg, cat.1.jpg, cat.2.jpg ....]\n",
        "    |______ <b>dogs</b>: [dog.0.jpg, dog.1.jpg, dog.2.jpg ...]\n",
        "|__ <b>validation</b>\n",
        "    |______ <b>cats</b>: [cat.2000.jpg, cat.2001.jpg, cat.2002.jpg ....]\n",
        "    |______ <b>dogs</b>: [dog.2000.jpg, dog.2001.jpg, dog.2002.jpg ...]\n",
        "</pre>"
      ]
    },
    {
      "cell_type": "markdown",
      "metadata": {
        "colab_type": "text",
        "id": "VpmywIlsVrVx"
      },
      "source": [
        "Αφού εξαχθούν τα περιεχόμενα, εκχωρούμε μεταβλητές με την κατάλληλη διαδρομή αρχείου για τα σετ εκπαίδευσης και επικύρωσης."
      ]
    },
    {
      "cell_type": "code",
      "metadata": {
        "colab_type": "code",
        "id": "sRucI3QqVrVy",
        "colab": {}
      },
      "source": [
        "train_dir = os.path.join(PATH, 'train')\n",
        "validation_dir = os.path.join(PATH, 'validation')"
      ],
      "execution_count": 0,
      "outputs": []
    },
    {
      "cell_type": "code",
      "metadata": {
        "colab_type": "code",
        "id": "Utv3nryxVrV0",
        "colab": {}
      },
      "source": [
        "train_cats_dir = os.path.join(train_dir, 'cats')  # directory with our training cat pictures\n",
        "train_dogs_dir = os.path.join(train_dir, 'dogs')  # directory with our training dog pictures\n",
        "validation_cats_dir = os.path.join(validation_dir, 'cats')  # directory with our validation cat pictures\n",
        "validation_dogs_dir = os.path.join(validation_dir, 'dogs')  # directory with our validation dog pictures"
      ],
      "execution_count": 0,
      "outputs": []
    },
    {
      "cell_type": "markdown",
      "metadata": {
        "colab_type": "text",
        "id": "ZdrHHTy2VrV3"
      },
      "source": [
        "### Κατανόηση Δεδομένων"
      ]
    },
    {
      "cell_type": "markdown",
      "metadata": {
        "colab_type": "text",
        "id": "LblUYjl-VrV3"
      },
      "source": [
        "Ας δούμε πόσες εικόνες γάτας και σκύλου βρίσκονται στους καταλόγους εκπαίδευσης και επικύρωσης:"
      ]
    },
    {
      "cell_type": "code",
      "metadata": {
        "colab_type": "code",
        "id": "vc4u8e9hVrV4",
        "colab": {}
      },
      "source": [
        "num_cats_tr = len(os.listdir(train_cats_dir))\n",
        "num_dogs_tr = len(os.listdir(train_dogs_dir))\n",
        "\n",
        "num_cats_val = len(os.listdir(validation_cats_dir))\n",
        "num_dogs_val = len(os.listdir(validation_dogs_dir))\n",
        "\n",
        "total_train = num_cats_tr + num_dogs_tr\n",
        "total_val = num_cats_val + num_dogs_val"
      ],
      "execution_count": 0,
      "outputs": []
    },
    {
      "cell_type": "code",
      "metadata": {
        "colab_type": "code",
        "id": "g4GGzGt0VrV7",
        "colab": {}
      },
      "source": [
        "print('total training cat images:', num_cats_tr)\n",
        "print('total training dog images:', num_dogs_tr)\n",
        "\n",
        "print('total validation cat images:', num_cats_val)\n",
        "print('total validation dog images:', num_dogs_val)\n",
        "print(\"--\")\n",
        "print(\"Total training images:\", total_train)\n",
        "print(\"Total validation images:\", total_val)"
      ],
      "execution_count": 0,
      "outputs": []
    },
    {
      "cell_type": "markdown",
      "metadata": {
        "colab_type": "text",
        "id": "8Lp-0ejxOtP1"
      },
      "source": [
        "Για ευκολία, θέτουμε τις μεταβλητές που θα χρησιμοποιηθούν για την προ-επεξεργασία και την εκπαίδευση του δικτύου:"
      ]
    },
    {
      "cell_type": "code",
      "metadata": {
        "colab_type": "code",
        "id": "3NqNselLVrWA",
        "colab": {}
      },
      "source": [
        "batch_size = 128\n",
        "epochs = 15\n",
        "IMG_HEIGHT = 150\n",
        "IMG_WIDTH = 150"
      ],
      "execution_count": 0,
      "outputs": []
    },
    {
      "cell_type": "markdown",
      "metadata": {
        "colab_type": "text",
        "id": "INn-cOn1VrWC"
      },
      "source": [
        "## Προετοιμασία δεδομένων"
      ]
    },
    {
      "cell_type": "markdown",
      "metadata": {
        "colab_type": "text",
        "id": "5Jfk6aSAVrWD"
      },
      "source": [
        "Διαμορφώνουμε τις εικόνες σε τανυστές (tensors) κινητής υποδιαστολής (floats) πριν την εισαγωγή τους στο δίκτυο:\n",
        "\n",
        "1. Διάβασμα των εικόνων από τον δίσκο.\n",
        "2. Αποκωδικοποιηση των εικόνων και μετατροπή σε σωστή μορφή RGBD.\n",
        "3. Μετατροπή σε τανυστές κινητής υποδιαστολής.\n",
        "4. Μετατροπή των τανυστών από τιμές μεταξύ 0 and 255 σε τιμές μεταξύ 0 και 1, καθώς στα νευρωνικά δίκτυα είναι καλύτερα να έχουμε μικρές τιμές εισόδου.\n",
        "\n",
        "Όλες αυτές οι εργασίες μπορούν να γίνουν με τη κλάση `ImageDataGenerator` που παρέχεται από την `tf.keras`. \n",
        "Η κλάση μπορεί να διαβάσει εικόνες από το δίσκο και να τις προεπεξεργαστεί σε κατάλληλους τανυστές. Θα δημιουργήσει επίσης γεννήτριες που θα μετατρέπουν αυτές τις εικόνες σε παρτίδες (batches) τανυστών - χρήσιμες κατά την εκπαίδευση του δικτύου."
      ]
    },
    {
      "cell_type": "code",
      "metadata": {
        "colab_type": "code",
        "id": "syDdF_LWVrWE",
        "colab": {}
      },
      "source": [
        "train_image_generator = ImageDataGenerator(rescale=1./255) # Generator for our training data\n",
        "validation_image_generator = ImageDataGenerator(rescale=1./255) # Generator for our validation data"
      ],
      "execution_count": 0,
      "outputs": []
    },
    {
      "cell_type": "markdown",
      "metadata": {
        "colab_type": "text",
        "id": "RLciCR_FVrWH"
      },
      "source": [
        "Μετά τον καθορισμό των γεννητριών για την  εκπαίδευση και επικύρωση εικόνων, η μέθοδος `flow_from_directory`  φορτώνει τις εικόνες από το δίσκο, κάνει rescaling και αλλάζει το μέγεθος των εικόνων στις απαιτούμενες διαστάσεις."
      ]
    },
    {
      "cell_type": "code",
      "metadata": {
        "colab_type": "code",
        "id": "Pw94ajOOVrWI",
        "colab": {}
      },
      "source": [
        "train_data_gen = train_image_generator.flow_from_directory(batch_size=batch_size,\n",
        "                                                           directory=train_dir,\n",
        "                                                           shuffle=True,\n",
        "                                                           target_size=(IMG_HEIGHT, IMG_WIDTH),\n",
        "                                                           class_mode='binary')"
      ],
      "execution_count": 0,
      "outputs": []
    },
    {
      "cell_type": "code",
      "metadata": {
        "colab_type": "code",
        "id": "2oUoKUzRVrWM",
        "colab": {}
      },
      "source": [
        "val_data_gen = validation_image_generator.flow_from_directory(batch_size=batch_size,\n",
        "                                                              directory=validation_dir,\n",
        "                                                              target_size=(IMG_HEIGHT, IMG_WIDTH),\n",
        "                                                              class_mode='binary')"
      ],
      "execution_count": 0,
      "outputs": []
    },
    {
      "cell_type": "markdown",
      "metadata": {
        "colab_type": "text",
        "id": "hyexPJ8CVrWP"
      },
      "source": [
        "### Επόπτευση των εικόνων για εκπαίδευση"
      ]
    },
    {
      "cell_type": "markdown",
      "metadata": {
        "colab_type": "text",
        "id": "60CnhEL4VrWQ"
      },
      "source": [
        "Βλέπουμε μερικές εικόνες εκπαίδευσης εξάγοντας μια παρτίδα εικόνων από τη γεννήτρια κατάρτισης - που είναι 32 εικόνες σε αυτό το παράδειγμα - και στη συνέχεια σχεδιάζουμε 5 από αυτές με την `matplotlib`."
      ]
    },
    {
      "cell_type": "code",
      "metadata": {
        "colab_type": "code",
        "id": "3f0Z7NZgVrWQ",
        "colab": {}
      },
      "source": [
        "sample_training_images, _ = next(train_data_gen)"
      ],
      "execution_count": 0,
      "outputs": []
    },
    {
      "cell_type": "markdown",
      "metadata": {
        "colab_type": "text",
        "id": "49weMt5YVrWT"
      },
      "source": [
        "Η  συνάρτηση `next` επιστρέφει μια παρτίδα από το σύνολο δεδομένων. Η τιμή που επιστρέφει η  συνάρτηση `next` έχει τη μορφή `(x_train, y_train)`, όπου x_train είναι τα χαρακτηριστικά εκπαίδευσης και y_train, οι ετικέτες της. Αγνοούμε τις ετικέτες για να απεικονίσουμε μόνο τις εικόνες εκπαίδευσης."
      ]
    },
    {
      "cell_type": "code",
      "metadata": {
        "colab_type": "code",
        "id": "JMt2RES_VrWU",
        "colab": {}
      },
      "source": [
        "# This function will plot images in the form of a grid with 1 row and 5 columns where images are placed in each column.\n",
        "def plotImages(images_arr):\n",
        "    fig, axes = plt.subplots(1, 5, figsize=(20,20))\n",
        "    axes = axes.flatten()\n",
        "    for img, ax in zip( images_arr, axes):\n",
        "        ax.imshow(img)\n",
        "        ax.axis('off')\n",
        "    plt.tight_layout()\n",
        "    plt.show()"
      ],
      "execution_count": 0,
      "outputs": []
    },
    {
      "cell_type": "code",
      "metadata": {
        "colab_type": "code",
        "id": "d_VVg_gEVrWW",
        "colab": {}
      },
      "source": [
        "plotImages(sample_training_images[:5])"
      ],
      "execution_count": 0,
      "outputs": []
    },
    {
      "cell_type": "markdown",
      "metadata": {
        "colab_type": "text",
        "id": "b5Ej-HLGVrWZ"
      },
      "source": [
        "## Δημιουργία μοντέλου"
      ]
    },
    {
      "cell_type": "markdown",
      "metadata": {
        "colab_type": "text",
        "id": "wEgW4i18VrWZ"
      },
      "source": [
        "\n",
        "Το μοντέλο αποτελείται από τρία συνελικτικά μπλοκ συνελεύσεων με ένα max pool επίπεδο σε κάθε ένα από αυτά. Στην κορυφή μπαίνει  ένα πλήρως συνδεδεμένο επίπεδο με 512 νευρώνες με ενεργοποίηση relu."
      ]
    },
    {
      "cell_type": "code",
      "metadata": {
        "colab_type": "code",
        "id": "F15-uwLPVrWa",
        "colab": {}
      },
      "source": [
        "model = Sequential([\n",
        "    Conv2D(16, 3, padding='same', activation='relu', input_shape=(IMG_HEIGHT, IMG_WIDTH ,3)),\n",
        "    MaxPooling2D(),\n",
        "    Conv2D(32, 3, padding='same', activation='relu'),\n",
        "    MaxPooling2D(),\n",
        "    Conv2D(64, 3, padding='same', activation='relu'),\n",
        "    MaxPooling2D(),\n",
        "    Flatten(),\n",
        "    Dense(512, activation='relu'),\n",
        "    Dense(1)\n",
        "])"
      ],
      "execution_count": 0,
      "outputs": []
    },
    {
      "cell_type": "markdown",
      "metadata": {
        "colab_type": "text",
        "id": "PI5cdkMQVrWc"
      },
      "source": [
        "### Μετάφραση (Compiling) μοντέλου\n",
        "\n",
        "Επιλέγουμε για τη βελτιστοποίηση (optimizer) *ADAM* και *binary cross entropy*. Για να βλέπουμε την ακρίβεια εκπαίδευσης και επικύρωσης σε κάθε εποχή, δίνουμε το  `metrics`. "
      ]
    },
    {
      "cell_type": "code",
      "metadata": {
        "colab_type": "code",
        "id": "6Mg7_TXOVrWd",
        "colab": {}
      },
      "source": [
        "model.compile(optimizer='adam',\n",
        "              loss=tf.keras.losses.BinaryCrossentropy(from_logits=True),\n",
        "              metrics=['accuracy'])"
      ],
      "execution_count": 0,
      "outputs": []
    },
    {
      "cell_type": "markdown",
      "metadata": {
        "colab_type": "text",
        "id": "2YmQZ3TAVrWg"
      },
      "source": [
        "### Σύνοψη μοντέλου\n",
        "Βλέπουμε όλα τα επίπεδα του δικτύου χρησιμοποιώντας τη  μέθοδο `summary` του μοντέλου:"
      ]
    },
    {
      "cell_type": "code",
      "metadata": {
        "colab_type": "code",
        "id": "Vtny8hmBVrWh",
        "colab": {}
      },
      "source": [
        "model.summary()"
      ],
      "execution_count": 0,
      "outputs": []
    },
    {
      "cell_type": "markdown",
      "metadata": {
        "colab_type": "text",
        "id": "N06iqE8VVrWj"
      },
      "source": [
        "### Εκπαίδευση του μοντέλου"
      ]
    },
    {
      "cell_type": "markdown",
      "metadata": {
        "colab_type": "text",
        "id": "oub9RtoFVrWk"
      },
      "source": [
        "Χρησιμοποιούμε τη μέθοδο `fit_generator` της κλάσης `ImageDataGenerator` για την εκπαίδευση του δικτύου."
      ]
    },
    {
      "cell_type": "code",
      "metadata": {
        "colab_type": "code",
        "id": "KSF2HqhDVrWk",
        "colab": {}
      },
      "source": [
        "history = model.fit_generator(\n",
        "    train_data_gen,\n",
        "    steps_per_epoch=total_train // batch_size,\n",
        "    epochs=epochs,\n",
        "    validation_data=val_data_gen,\n",
        "    validation_steps=total_val // batch_size\n",
        ")"
      ],
      "execution_count": 0,
      "outputs": []
    },
    {
      "cell_type": "markdown",
      "metadata": {
        "colab_type": "text",
        "id": "ojJNteAGVrWo"
      },
      "source": [
        "### Εμφάνιση αποτελεσμάτων"
      ]
    },
    {
      "cell_type": "markdown",
      "metadata": {
        "colab_type": "text",
        "id": "LZPYT-EmVrWo"
      },
      "source": [
        "Στη συνέχεια βλέπουμε τα αποτελέσματα αφού τελειώσει η εκπαίδευση στο δίκτυο"
      ]
    },
    {
      "cell_type": "code",
      "metadata": {
        "colab_type": "code",
        "id": "K6oA77ADVrWp",
        "colab": {}
      },
      "source": [
        "acc = history.history['accuracy']\n",
        "val_acc = history.history['val_accuracy']\n",
        "\n",
        "loss=history.history['loss']\n",
        "val_loss=history.history['val_loss']\n",
        "\n",
        "epochs_range = range(epochs)\n",
        "\n",
        "plt.figure(figsize=(8, 8))\n",
        "plt.subplot(1, 2, 1)\n",
        "plt.plot(epochs_range, acc, label='Training Accuracy')\n",
        "plt.plot(epochs_range, val_acc, label='Validation Accuracy')\n",
        "plt.legend(loc='lower right')\n",
        "plt.title('Training and Validation Accuracy')\n",
        "\n",
        "plt.subplot(1, 2, 2)\n",
        "plt.plot(epochs_range, loss, label='Training Loss')\n",
        "plt.plot(epochs_range, val_loss, label='Validation Loss')\n",
        "plt.legend(loc='upper right')\n",
        "plt.title('Training and Validation Loss')\n",
        "plt.show()"
      ],
      "execution_count": 0,
      "outputs": []
    },
    {
      "cell_type": "markdown",
      "metadata": {
        "colab_type": "text",
        "id": "kDnr50l2VrWu"
      },
      "source": [
        "Όπως μπορείτε να δείτε από τα γραφήματα, η ακρίβεια της εκπαίδευση και η ακρίβεια επικύρωσης αποκλίνουν σε μεγάλο βαθμό και το μοντέλο έχει  ακρίβεια μόνο περίπου **70%**  στα δεδομέννα επικύρωσης.\n",
        "\n",
        "Ας δούμε τι πήγε στραβά και ας προσπαθήσουμε να αυξήσουμε τη συνολική απόδοση του μοντέλου."
      ]
    },
    {
      "cell_type": "markdown",
      "metadata": {
        "colab_type": "text",
        "id": "rLO7yhLlVrWu"
      },
      "source": [
        "## Overfitting"
      ]
    },
    {
      "cell_type": "markdown",
      "metadata": {
        "colab_type": "text",
        "id": "hNyx3Lp4VrWv"
      },
      "source": [
        "Στα παραπάνω γραφήματα, η ακρίβεια  εκπαίδευσης αυξάνεται γραμμικά με την πάροδο του χρόνου, ενώ η ακρίβεια επικύρωσης κολλάει περίπου στο 70% κατά τη διαδικασία εκπαίδευσης. Η διαφορά στην ακρίβεια μεταξύ της προπόνησης και  επικύρωσης είναι φανερή - και αποτελεί σημάδι *overfitting*.\n",
        "\n",
        "Όταν έχουμε μικρό αριθμό δειγμάτων εκπαίδευσης, το μοντέλο μερικές φορές μαθαίνει από θορύβους ή ανεπιθύμητες λεπτομέρειες από τα δείγματα - σε βαθμό που επηρεάζει αρνητικά την απόδοση του μοντέλου σε νέα δείγματα. Αυτό το φαινόμενο είναι γνωστό ως overfitting. Αυτό σημαίνει ότι το μοντέλο θα δυσκολεύεται στη γενίκευση σε ένα νέο σύνολο δεδομένων.\n",
        "\n",
        "Υπάρχουν πολλοί τρόποι για την καταπολέμηση του overfitting στη διαδικασία εκπαίδευσης. Σε αυτόν τον οδηγό, θα χρησιμοποιήσουμε *data augmentation* και *dropout*."
      ]
    },
    {
      "cell_type": "markdown",
      "metadata": {
        "colab_type": "text",
        "id": "UOoVpxFwVrWy"
      },
      "source": [
        "## Επαύξηση Δεδομένων - Data augmentation"
      ]
    },
    {
      "cell_type": "markdown",
      "metadata": {
        "colab_type": "text",
        "id": "Wn_QLciWVrWy"
      },
      "source": [
        "Γενικά, οverfitting συμβαίνει όταν υπάρχει μικρός αριθμός δειγμάτων εκπαίδευσης. Ένας τρόπος για να διορθώσουμε αυτό το πρόβλημα είναι να αυξήσουμε το σύνολο δεδομένων έτσι ώστε να διαθέτει επαρκή αριθμό δειγμάτων εκπαίδευσης. Η αύξηση δεδομένων ακολουθεί την προσέγγιση της δημιουργίας περισσότερων δεδομένων από τα υπάρχοντα δείγματα εκπαίδευσης, με τυχαίους μετασχηματισμούς που κατασκευάζουν νέες παραπλήσιες εικόνες. Ο στόχος είναι το μοντέλο να μη δει ποτέ την ίδια εικόνα ξανά κατά τη διάρκεια της εκπαίδευσης. Αυτό βοηθά στην έκθεση του μοντέλου σε περισσότερες πτυχές των δεδομένων και οδηγεί σε καλύτερη γενίκευση.\n",
        "\n",
        "Θα το κάνουμε εδώ στη `tf.keras` με χρήση της κλάσης `ImageDataGenerator`. Περνάμε στο σύνολο δεδομένων διαφορετικούς μετασχηματισμούς  που θα εφαρμοστούν κατά τη διάρκεια της εκπαίδευσης."
      ]
    },
    {
      "cell_type": "markdown",
      "metadata": {
        "colab_type": "text",
        "id": "2uJ1G030VrWz"
      },
      "source": [
        "### Αύξηση και οπτικοποίηση δεδομένων"
      ]
    },
    {
      "cell_type": "markdown",
      "metadata": {
        "colab_type": "text",
        "id": "hvX7hHlgVrW0"
      },
      "source": [
        "Ξεκινάμε εφαρμόζοντας τυχαία οριζόντια αναστροφή στο σύνολο δεδομένων και βλέπουμε πώς φαίνονται κάποιες από τις εικόνες μετά τον μετασχηματισμό."
      ]
    },
    {
      "cell_type": "markdown",
      "metadata": {
        "colab_type": "text",
        "id": "rlVj6VqaVrW0"
      },
      "source": [
        "### Εφαρμογή οριζόντιας αναστροφής"
      ]
    },
    {
      "cell_type": "markdown",
      "metadata": {
        "colab_type": "text",
        "id": "xcdvx4TVVrW1"
      },
      "source": [
        "Περνάμε το `horizontal_flip` ως όρισμα στη κλάση `ImageDataGenerator` και θέτουμε `True` για να εφαρμόσει αυτή τη μέθοδο."
      ]
    },
    {
      "cell_type": "code",
      "metadata": {
        "colab_type": "code",
        "id": "Bi1_vHyBVrW2",
        "colab": {}
      },
      "source": [
        "image_gen = ImageDataGenerator(rescale=1./255, horizontal_flip=True)"
      ],
      "execution_count": 0,
      "outputs": []
    },
    {
      "cell_type": "code",
      "metadata": {
        "colab_type": "code",
        "id": "zvwqmefgVrW3",
        "colab": {}
      },
      "source": [
        "train_data_gen = image_gen.flow_from_directory(batch_size=batch_size,\n",
        "                                               directory=train_dir,\n",
        "                                               shuffle=True,\n",
        "                                               target_size=(IMG_HEIGHT, IMG_WIDTH))"
      ],
      "execution_count": 0,
      "outputs": []
    },
    {
      "cell_type": "markdown",
      "metadata": {
        "colab_type": "text",
        "id": "zJpRSxJ-VrW7"
      },
      "source": [
        "Για να δούμε πως δουλεύει, ας πάρουμε πέντε φορές ένα δείγμα απο τις εικόνες εκπαίδευσης, ώστε η επαύξηση να εφαρμοστεί πέντε φορές στην ίδια εικόνα."
      ]
    },
    {
      "cell_type": "code",
      "metadata": {
        "colab_type": "code",
        "id": "RrKGd_jjVrW7",
        "colab": {}
      },
      "source": [
        "augmented_images = [train_data_gen[0][0][0] for i in range(5)]"
      ],
      "execution_count": 0,
      "outputs": []
    },
    {
      "cell_type": "code",
      "metadata": {
        "colab_type": "code",
        "id": "EvBZoQ9xVrW9",
        "colab": {}
      },
      "source": [
        "# Re-use the same custom plotting function defined and used\n",
        "# above to visualize the training images\n",
        "plotImages(augmented_images)"
      ],
      "execution_count": 0,
      "outputs": []
    },
    {
      "cell_type": "markdown",
      "metadata": {
        "colab_type": "text",
        "id": "i7n9xcqCVrXB"
      },
      "source": [
        "### Τυχαία περιστροφή εικόνας"
      ]
    },
    {
      "cell_type": "markdown",
      "metadata": {
        "colab_type": "text",
        "id": "qXnwkzFuVrXB"
      },
      "source": [
        "Ας δούμε και μια άλλη μέθοδο, την περιστροφή, όπου θα εφαρμόσουμε τυχαία περιστροφή 45 μοιρών στις εικόνες εκπαίδευσης."
      ]
    },
    {
      "cell_type": "code",
      "metadata": {
        "colab_type": "code",
        "id": "1zip35pDVrXB",
        "colab": {}
      },
      "source": [
        "image_gen = ImageDataGenerator(rescale=1./255, rotation_range=45)"
      ],
      "execution_count": 0,
      "outputs": []
    },
    {
      "cell_type": "code",
      "metadata": {
        "colab_type": "code",
        "id": "kVoWh4OIVrXD",
        "colab": {}
      },
      "source": [
        "train_data_gen = image_gen.flow_from_directory(batch_size=batch_size,\n",
        "                                               directory=train_dir,\n",
        "                                               shuffle=True,\n",
        "                                               target_size=(IMG_HEIGHT, IMG_WIDTH))\n",
        "\n",
        "augmented_images = [train_data_gen[0][0][0] for i in range(5)]"
      ],
      "execution_count": 0,
      "outputs": []
    },
    {
      "cell_type": "code",
      "metadata": {
        "colab_type": "code",
        "id": "wmBx8NhrVrXK",
        "colab": {}
      },
      "source": [
        "plotImages(augmented_images)"
      ],
      "execution_count": 0,
      "outputs": []
    },
    {
      "cell_type": "markdown",
      "metadata": {
        "colab_type": "text",
        "id": "FOqGPL76VrXM"
      },
      "source": [
        "### Εφαρμογή μεγέθυνσης (zoom)"
      ]
    },
    {
      "cell_type": "markdown",
      "metadata": {
        "colab_type": "text",
        "id": "NvqXaD8BVrXN"
      },
      "source": [
        "Προσθέτουμε μια τυχαία επαύξηση μεγέθυνσης μέχρι 50%."
      ]
    },
    {
      "cell_type": "code",
      "metadata": {
        "colab_type": "code",
        "id": "tGNKLa_YVrXR",
        "colab": {}
      },
      "source": [
        "# zoom_range from 0 - 1 where 1 = 100%.\n",
        "image_gen = ImageDataGenerator(rescale=1./255, zoom_range=0.5) # "
      ],
      "execution_count": 0,
      "outputs": []
    },
    {
      "cell_type": "code",
      "metadata": {
        "colab_type": "code",
        "id": "VOvTs32FVrXU",
        "colab": {}
      },
      "source": [
        "train_data_gen = image_gen.flow_from_directory(batch_size=batch_size,\n",
        "                                               directory=train_dir,\n",
        "                                               shuffle=True,\n",
        "                                               target_size=(IMG_HEIGHT, IMG_WIDTH))\n",
        "\n",
        "augmented_images = [train_data_gen[0][0][0] for i in range(5)]"
      ],
      "execution_count": 0,
      "outputs": []
    },
    {
      "cell_type": "code",
      "metadata": {
        "colab_type": "code",
        "id": "-KQWw8IZVrXZ",
        "colab": {}
      },
      "source": [
        "plotImages(augmented_images)"
      ],
      "execution_count": 0,
      "outputs": []
    },
    {
      "cell_type": "markdown",
      "metadata": {
        "colab_type": "text",
        "id": "usS13KCNVrXd"
      },
      "source": [
        "### Όλα μαζί"
      ]
    },
    {
      "cell_type": "markdown",
      "metadata": {
        "colab_type": "text",
        "id": "OC8fIsalVrXd"
      },
      "source": [
        "Ας εφαρμόσουμε τώρα όλες τις προηγούμενες επαυξήσεις μαζί. Αλλαγή κλίμακας, 45 μοίρες περιστροφή, μετατόπιση πλάτους και ύψους, οριζόντια περιστροφή και μεγέθυνση στις εικόνες εκπαίδευσης"
      ]
    },
    {
      "cell_type": "code",
      "metadata": {
        "colab_type": "code",
        "id": "gnr2xujaVrXe",
        "colab": {}
      },
      "source": [
        "image_gen_train = ImageDataGenerator(\n",
        "                    rescale=1./255,\n",
        "                    rotation_range=45,\n",
        "                    width_shift_range=.15,\n",
        "                    height_shift_range=.15,\n",
        "                    horizontal_flip=True,\n",
        "                    zoom_range=0.5\n",
        "                    )"
      ],
      "execution_count": 0,
      "outputs": []
    },
    {
      "cell_type": "code",
      "metadata": {
        "colab_type": "code",
        "id": "K0Efxy7EVrXh",
        "colab": {}
      },
      "source": [
        "train_data_gen = image_gen_train.flow_from_directory(batch_size=batch_size,\n",
        "                                                     directory=train_dir,\n",
        "                                                     shuffle=True,\n",
        "                                                     target_size=(IMG_HEIGHT, IMG_WIDTH),\n",
        "                                                     class_mode='binary')"
      ],
      "execution_count": 0,
      "outputs": []
    },
    {
      "cell_type": "markdown",
      "metadata": {
        "colab_type": "text",
        "id": "AW-pV5awVrXl"
      },
      "source": [
        "Ας δούμε πως θα φαίνεται η ίδια εικόνα αν την περάσουμε πέντε φορές, με τις μεθόδους επαύξησης που βαλαμε."
      ]
    },
    {
      "cell_type": "code",
      "metadata": {
        "colab_type": "code",
        "id": "z2m68eMhVrXm",
        "colab": {}
      },
      "source": [
        "augmented_images = [train_data_gen[0][0][0] for i in range(5)]\n",
        "plotImages(augmented_images)"
      ],
      "execution_count": 0,
      "outputs": []
    },
    {
      "cell_type": "markdown",
      "metadata": {
        "colab_type": "text",
        "id": "J8cUd7FXVrXq"
      },
      "source": [
        "### Δημιουργία γενήτριας δεδομένων επικύρωσης"
      ]
    },
    {
      "cell_type": "markdown",
      "metadata": {
        "colab_type": "text",
        "id": "a99fDBt7VrXr"
      },
      "source": [
        "Γενικά, εφαρμόζουμε επαύξηση δεδομένων μόνο στα δείγματα εκπαίδευσης. Οπότε στα δείγματα επικύρωσης κάνουμε μόνο αλλαγή κλίμακας και τις ενώνουμε σε παρτίδες με την `ImageDataGenerator`."
      ]
    },
    {
      "cell_type": "code",
      "metadata": {
        "colab_type": "code",
        "id": "54x0aNbKVrXr",
        "colab": {}
      },
      "source": [
        "image_gen_val = ImageDataGenerator(rescale=1./255)"
      ],
      "execution_count": 0,
      "outputs": []
    },
    {
      "cell_type": "code",
      "metadata": {
        "colab_type": "code",
        "id": "1PCHKzI8VrXv",
        "colab": {}
      },
      "source": [
        "val_data_gen = image_gen_val.flow_from_directory(batch_size=batch_size,\n",
        "                                                 directory=validation_dir,\n",
        "                                                 target_size=(IMG_HEIGHT, IMG_WIDTH),\n",
        "                                                 class_mode='binary')"
      ],
      "execution_count": 0,
      "outputs": []
    },
    {
      "cell_type": "markdown",
      "metadata": {
        "colab_type": "text",
        "id": "yQGhdqHFVrXx"
      },
      "source": [
        "## Παράλειψη - Dropout"
      ]
    },
    {
      "cell_type": "markdown",
      "metadata": {
        "colab_type": "text",
        "id": "2Iq5TAH_VrXx"
      },
      "source": [
        "Μια άλλη τεχνική για τη μείωση του overfitting είναι η εισαγωγή *παράλειψης (dropout)* στο δίκτυο. Είναι μια μορφή *κανονικοποίησης (regularization)* που αναγκάζει τα βάρη στο δίκτυο να λαμβάνουν μόνο μικρές τιμές, γεγονός που καθιστά την κατανομή τιμών βάρους πιο  ομαλή και το δίκτυο μπορεί να μειώσει το overfitting σε μικρά δείγματα.\n",
        "\n",
        "Όταν θέτουμε παράλειψη σε ένα επίπεδο, ένας τυχαίος αριθμός μονάδων εξόδου μηδενίζεται στο τρέχον επίπεδο κατά την εκπαίδευση. Ως την τιμή εισόδου, το Dropout παίρνει έναν δεκαδικό αριθμό, πχ 0.1, 0.2, 0.4, κ.λπ. που σημαίνει την τυχαία κατάργηση 10%, 20% ή 40% των μονάδων εξόδου από το τρέχον επίπεδο.\n",
        "\n",
        "Κατά την εφαρμογή 0.1 παράλειψης σε ένα συγκεκριμένο επίπεδο, τυχαία το 10% των μονάδων εξόδου σε κάθε εποχή εκπαίδευσης μηδενίζεται.\n",
        "\n",
        "Ας δημιουργήσουμε μια αρχιτεκτονική δικτύου με αυτήν τη νέα δυνατότητα παράλειψης και ας την εφαρμόσουμε στα διάφορα συνελικτικά και πλήρως διασυνδεμένα."
      ]
    },
    {
      "cell_type": "markdown",
      "metadata": {
        "colab_type": "text",
        "id": "DyxxXRmVVrXy"
      },
      "source": [
        "## Δημιουργία νέου δικτύου με το Dropouts"
      ]
    },
    {
      "cell_type": "markdown",
      "metadata": {
        "colab_type": "text",
        "id": "1Ba2LjtkVrXy"
      },
      "source": [
        "Here, you apply dropout to first and last max pool layers. Applying dropout will randomly set 20% of the neurons to zero during each training epoch. This helps to avoid overfitting on the training dataset.\n",
        "Εδώ, εφαρμόζουμε την εγκατάλειψη στα πρώτα και τα τελευταία ανώτατα επίπεδα max-pool. Θέτουμε τυχαία το 20% των νευρώνων σε μηδέν κατά τη διάρκεια κάθε εποχής εκπαίδευσης. Αυτό βοηθά στην αποφυγή του overfitting στο σύνολο δεδομένων εκπαίδευσης."
      ]
    },
    {
      "cell_type": "code",
      "metadata": {
        "colab_type": "code",
        "id": "2fjio8EsVrXz",
        "colab": {}
      },
      "source": [
        "model_new = Sequential([\n",
        "    Conv2D(16, 3, padding='same', activation='relu', \n",
        "           input_shape=(IMG_HEIGHT, IMG_WIDTH ,3)),\n",
        "    MaxPooling2D(),\n",
        "    Dropout(0.2),\n",
        "    Conv2D(32, 3, padding='same', activation='relu'),\n",
        "    MaxPooling2D(),\n",
        "    Conv2D(64, 3, padding='same', activation='relu'),\n",
        "    MaxPooling2D(),\n",
        "    Dropout(0.2),\n",
        "    Flatten(),\n",
        "    Dense(512, activation='relu'),\n",
        "    Dense(1)\n",
        "])"
      ],
      "execution_count": 0,
      "outputs": []
    },
    {
      "cell_type": "markdown",
      "metadata": {
        "colab_type": "text",
        "id": "tpTgIxWAVrX0"
      },
      "source": [
        "### Μετάφραση μοντέλου"
      ]
    },
    {
      "cell_type": "markdown",
      "metadata": {
        "colab_type": "text",
        "id": "1osvc_iTVrX1"
      },
      "source": [
        "Μετά την εισαγωγή των παραλείψεων στο δίκτυο, ας κάνουμε μετάφραση του μοντέλου και προβολή της περίληψης επιπέδων."
      ]
    },
    {
      "cell_type": "code",
      "metadata": {
        "colab_type": "code",
        "id": "OkIJhS-WVrX1",
        "colab": {}
      },
      "source": [
        "model_new.compile(optimizer='adam',\n",
        "                  loss=tf.keras.losses.BinaryCrossentropy(from_logits=True),\n",
        "                  metrics=['accuracy'])\n",
        "\n",
        "model_new.summary()"
      ],
      "execution_count": 0,
      "outputs": []
    },
    {
      "cell_type": "markdown",
      "metadata": {
        "colab_type": "text",
        "id": "7KiDshEUVrX6"
      },
      "source": [
        "### Εκπαίδευση μοντέλοη"
      ]
    },
    {
      "cell_type": "markdown",
      "metadata": {
        "colab_type": "text",
        "id": "NFj0oVqVVrX6"
      },
      "source": [
        "Αφού εισάγουμε επαύξηση δεδομένων στα δείγματα εκπαίδευσης και προσθέσουμε παραλήψεις στο δίκτυο, ας εκπαιδεύσουμε το νέο δίκτυο:"
      ]
    },
    {
      "cell_type": "code",
      "metadata": {
        "colab_type": "code",
        "id": "GWxHs_luVrX7",
        "colab": {}
      },
      "source": [
        "history = model_new.fit_generator(\n",
        "    train_data_gen,\n",
        "    steps_per_epoch=total_train // batch_size,\n",
        "    epochs=epochs,\n",
        "    validation_data=val_data_gen,\n",
        "    validation_steps=total_val // batch_size\n",
        ")"
      ],
      "execution_count": 0,
      "outputs": []
    },
    {
      "cell_type": "markdown",
      "metadata": {
        "colab_type": "text",
        "id": "bbdyqZdxVrYA"
      },
      "source": [
        "### Εμφάνιση καμπυλών εκπαίδευσης"
      ]
    },
    {
      "cell_type": "markdown",
      "metadata": {
        "colab_type": "text",
        "id": "OgvF2nt7OtR7"
      },
      "source": [
        "Βλέποντας τις καμπύλες ακρίβειας και σφάλματος στο νέο μοντέλο μετά την προπόνηση, βλέπουμε ότι υπάρχει σημαντικά λιγότερο overfitting από ό,τι πριν. Η ακρίβεια θα αυξηθεί μετά απο προπόνηση του μοντέλου σε περισσότερες εποχές."
      ]
    },
    {
      "cell_type": "code",
      "metadata": {
        "colab_type": "code",
        "id": "7BTeMuNAVrYC",
        "colab": {}
      },
      "source": [
        "acc = history.history['accuracy']\n",
        "val_acc = history.history['val_accuracy']\n",
        "\n",
        "loss = history.history['loss']\n",
        "val_loss = history.history['val_loss']\n",
        "\n",
        "epochs_range = range(epochs)\n",
        "\n",
        "plt.figure(figsize=(8, 8))\n",
        "plt.subplot(1, 2, 1)\n",
        "plt.plot(epochs_range, acc, label='Training Accuracy')\n",
        "plt.plot(epochs_range, val_acc, label='Validation Accuracy')\n",
        "plt.legend(loc='lower right')\n",
        "plt.title('Training and Validation Accuracy')\n",
        "\n",
        "plt.subplot(1, 2, 2)\n",
        "plt.plot(epochs_range, loss, label='Training Loss')\n",
        "plt.plot(epochs_range, val_loss, label='Validation Loss')\n",
        "plt.legend(loc='upper right')\n",
        "plt.title('Training and Validation Loss')\n",
        "plt.show()"
      ],
      "execution_count": 0,
      "outputs": []
    },
    {
      "cell_type": "markdown",
      "metadata": {
        "id": "to7bR5nLHCPd",
        "colab_type": "text"
      },
      "source": [
        "## Συνέχεια εξερεύνησης..."
      ]
    },
    {
      "cell_type": "markdown",
      "metadata": {
        "id": "UkUWKw_7HJx5",
        "colab_type": "text"
      },
      "source": [
        "Υπάρχουν και άλλες τεχνικές για μείωση του overfitting.\n",
        "Δοκιμάστε τα εξής\n",
        "\n",
        "*   *Μείωση της πολυπλοκότητας του μοντέλου*. Ποιά είναι η συμπεριφορά του αρχικού μοντέλου αν αφαιρεθεί πχ ένα συνελικτικό επίπεδο;\n",
        "*   *Εφαρμογή L2 regularization*. Ποιά είναι η συμπεριφορά του αρχικού μοντέλου αν προστεθεί η [L2](https://www.tensorflow.org/api_docs/python/tf/keras/regularizers/l2) στα συνελικτικά επίπεδα;\n",
        "*   [*Batch Normalization*](https://www.tensorflow.org/api_docs/python/tf/keras/layers/BatchNormalization). Ποιά είναι η συμπεριφορά του αρχικού μοντέλου μετά την προσθήκη της;\n",
        "*   [Global average pooling](https://codelabs.developers.google.com/codelabs/keras-flowers-convnets/#5). Αντί για χρήση πυκνών επιπέδων στο τέλος του δικτύου, για μείωση της πολυπλοκότητας του μοντέλου\n",
        "\n",
        "Χωριστείτε σε ομάδες και δοκιμάστε αυτές τις μεθόδους. Στο τέλος συγκρίνετε τα αποτελέσματα! \n",
        "\n",
        "\n",
        "\n",
        "\n",
        "\n",
        "\n",
        "\n"
      ]
    }
  ]
}